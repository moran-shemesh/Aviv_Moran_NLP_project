{
  "nbformat": 4,
  "nbformat_minor": 0,
  "metadata": {
    "colab": {
      "name": "NPL_Final_Project - notebook 1 - Data + TestRank.ipynb",
      "provenance": [],
      "collapsed_sections": []
    },
    "kernelspec": {
      "name": "python3",
      "display_name": "Python 3"
    },
    "language_info": {
      "name": "python"
    },
    "gpuClass": "standard",
    "accelerator": "GPU"
  },
  "cells": [
    {
      "cell_type": "markdown",
      "source": [
        "# Introduction\n",
        "\n",
        "students: <br>\n",
        "Moran Shemesh <br> \n",
        "Aviv Lazar <br> \n",
        "<br>\n",
        "\n",
        "Challenge: <br>\n",
        "Name: Text Summarization <br>\n",
        "definition: In text summarization, a model needs to create a shorter text than the original one, and represent the main information of the source text. <br>\n",
        "<br>\n",
        "\n",
        "There are two main attitudes for models which solve the challenge: <br>\n",
        "1) Extractive models: where the model’s summary is produced by sentences from the source text. <br>\n",
        "2) Abstractive models: where the model’s summary is produced by its own vocabulary. <br>\n",
        "\n",
        "In our work, we show two models: one extractive and one abstractive, when one will be our main model (Bart), and the second one is the baseline (TextRank)."
      ],
      "metadata": {
        "id": "-UDO88-DMGAo"
      }
    },
    {
      "cell_type": "markdown",
      "source": [
        "# Installations & Imports:"
      ],
      "metadata": {
        "id": "PP6eBCCbUOC6"
      }
    },
    {
      "cell_type": "markdown",
      "source": [
        "For transformers error, there is need to reinstall folium version 0.2.1:"
      ],
      "metadata": {
        "id": "fSkshwfSMKr6"
      }
    },
    {
      "cell_type": "code",
      "source": [
        "!pip install folium==0.2.1"
      ],
      "metadata": {
        "colab": {
          "base_uri": "https://localhost:8080/"
        },
        "id": "-2Av8j0XMsR6",
        "outputId": "e3df565f-eaa4-4e23-b1d5-5606e91735c1"
      },
      "execution_count": null,
      "outputs": [
        {
          "output_type": "stream",
          "name": "stdout",
          "text": [
            "Looking in indexes: https://pypi.org/simple, https://us-python.pkg.dev/colab-wheels/public/simple/\n",
            "Collecting folium==0.2.1\n",
            "  Downloading folium-0.2.1.tar.gz (69 kB)\n",
            "\u001b[K     |████████████████████████████████| 69 kB 4.4 MB/s \n",
            "\u001b[?25hRequirement already satisfied: Jinja2 in /usr/local/lib/python3.7/dist-packages (from folium==0.2.1) (2.11.3)\n",
            "Requirement already satisfied: MarkupSafe>=0.23 in /usr/local/lib/python3.7/dist-packages (from Jinja2->folium==0.2.1) (2.0.1)\n",
            "Building wheels for collected packages: folium\n",
            "  Building wheel for folium (setup.py) ... \u001b[?25l\u001b[?25hdone\n",
            "  Created wheel for folium: filename=folium-0.2.1-py3-none-any.whl size=79808 sha256=79f301bec3a1ae31e7560183b821d0f36f70a334cbde9a10aeca218df898d6fd\n",
            "  Stored in directory: /root/.cache/pip/wheels/9a/f0/3a/3f79a6914ff5affaf50cabad60c9f4d565283283c97f0bdccf\n",
            "Successfully built folium\n",
            "Installing collected packages: folium\n",
            "  Attempting uninstall: folium\n",
            "    Found existing installation: folium 0.8.3\n",
            "    Uninstalling folium-0.8.3:\n",
            "      Successfully uninstalled folium-0.8.3\n",
            "Successfully installed folium-0.2.1\n"
          ]
        }
      ]
    },
    {
      "cell_type": "code",
      "source": [
        "!pip install transformers datasets accelerate nvidia-ml-py3"
      ],
      "metadata": {
        "colab": {
          "base_uri": "https://localhost:8080/"
        },
        "id": "BBFFDBSINgXq",
        "outputId": "6ae925e4-bfef-4711-f95d-37f9160e8678"
      },
      "execution_count": null,
      "outputs": [
        {
          "output_type": "stream",
          "name": "stdout",
          "text": [
            "Looking in indexes: https://pypi.org/simple, https://us-python.pkg.dev/colab-wheels/public/simple/\n",
            "Collecting transformers\n",
            "  Downloading transformers-4.20.1-py3-none-any.whl (4.4 MB)\n",
            "\u001b[K     |████████████████████████████████| 4.4 MB 6.9 MB/s \n",
            "\u001b[?25hCollecting datasets\n",
            "  Downloading datasets-2.3.2-py3-none-any.whl (362 kB)\n",
            "\u001b[K     |████████████████████████████████| 362 kB 70.4 MB/s \n",
            "\u001b[?25hCollecting accelerate\n",
            "  Downloading accelerate-0.10.0-py3-none-any.whl (117 kB)\n",
            "\u001b[K     |████████████████████████████████| 117 kB 72.4 MB/s \n",
            "\u001b[?25hCollecting nvidia-ml-py3\n",
            "  Downloading nvidia-ml-py3-7.352.0.tar.gz (19 kB)\n",
            "Requirement already satisfied: regex!=2019.12.17 in /usr/local/lib/python3.7/dist-packages (from transformers) (2022.6.2)\n",
            "Collecting tokenizers!=0.11.3,<0.13,>=0.11.1\n",
            "  Downloading tokenizers-0.12.1-cp37-cp37m-manylinux_2_12_x86_64.manylinux2010_x86_64.whl (6.6 MB)\n",
            "\u001b[K     |████████████████████████████████| 6.6 MB 47.6 MB/s \n",
            "\u001b[?25hRequirement already satisfied: requests in /usr/local/lib/python3.7/dist-packages (from transformers) (2.23.0)\n",
            "Requirement already satisfied: importlib-metadata in /usr/local/lib/python3.7/dist-packages (from transformers) (4.12.0)\n",
            "Requirement already satisfied: packaging>=20.0 in /usr/local/lib/python3.7/dist-packages (from transformers) (21.3)\n",
            "Requirement already satisfied: tqdm>=4.27 in /usr/local/lib/python3.7/dist-packages (from transformers) (4.64.0)\n",
            "Collecting pyyaml>=5.1\n",
            "  Downloading PyYAML-6.0-cp37-cp37m-manylinux_2_5_x86_64.manylinux1_x86_64.manylinux_2_12_x86_64.manylinux2010_x86_64.whl (596 kB)\n",
            "\u001b[K     |████████████████████████████████| 596 kB 66.5 MB/s \n",
            "\u001b[?25hRequirement already satisfied: filelock in /usr/local/lib/python3.7/dist-packages (from transformers) (3.7.1)\n",
            "Requirement already satisfied: numpy>=1.17 in /usr/local/lib/python3.7/dist-packages (from transformers) (1.21.6)\n",
            "Collecting huggingface-hub<1.0,>=0.1.0\n",
            "  Downloading huggingface_hub-0.8.1-py3-none-any.whl (101 kB)\n",
            "\u001b[K     |████████████████████████████████| 101 kB 11.4 MB/s \n",
            "\u001b[?25hRequirement already satisfied: typing-extensions>=3.7.4.3 in /usr/local/lib/python3.7/dist-packages (from huggingface-hub<1.0,>=0.1.0->transformers) (4.1.1)\n",
            "Requirement already satisfied: pyparsing!=3.0.5,>=2.0.2 in /usr/local/lib/python3.7/dist-packages (from packaging>=20.0->transformers) (3.0.9)\n",
            "Collecting aiohttp\n",
            "  Downloading aiohttp-3.8.1-cp37-cp37m-manylinux_2_5_x86_64.manylinux1_x86_64.manylinux_2_12_x86_64.manylinux2010_x86_64.whl (1.1 MB)\n",
            "\u001b[K     |████████████████████████████████| 1.1 MB 64.7 MB/s \n",
            "\u001b[?25hRequirement already satisfied: pyarrow>=6.0.0 in /usr/local/lib/python3.7/dist-packages (from datasets) (6.0.1)\n",
            "Requirement already satisfied: dill<0.3.6 in /usr/local/lib/python3.7/dist-packages (from datasets) (0.3.5.1)\n",
            "Requirement already satisfied: multiprocess in /usr/local/lib/python3.7/dist-packages (from datasets) (0.70.13)\n",
            "Collecting responses<0.19\n",
            "  Downloading responses-0.18.0-py3-none-any.whl (38 kB)\n",
            "Requirement already satisfied: pandas in /usr/local/lib/python3.7/dist-packages (from datasets) (1.3.5)\n",
            "Collecting fsspec[http]>=2021.05.0\n",
            "  Downloading fsspec-2022.5.0-py3-none-any.whl (140 kB)\n",
            "\u001b[K     |████████████████████████████████| 140 kB 32.5 MB/s \n",
            "\u001b[?25hCollecting xxhash\n",
            "  Downloading xxhash-3.0.0-cp37-cp37m-manylinux_2_17_x86_64.manylinux2014_x86_64.whl (212 kB)\n",
            "\u001b[K     |████████████████████████████████| 212 kB 77.4 MB/s \n",
            "\u001b[?25hRequirement already satisfied: idna<3,>=2.5 in /usr/local/lib/python3.7/dist-packages (from requests->transformers) (2.10)\n",
            "Requirement already satisfied: urllib3!=1.25.0,!=1.25.1,<1.26,>=1.21.1 in /usr/local/lib/python3.7/dist-packages (from requests->transformers) (1.24.3)\n",
            "Requirement already satisfied: certifi>=2017.4.17 in /usr/local/lib/python3.7/dist-packages (from requests->transformers) (2022.6.15)\n",
            "Requirement already satisfied: chardet<4,>=3.0.2 in /usr/local/lib/python3.7/dist-packages (from requests->transformers) (3.0.4)\n",
            "Collecting urllib3!=1.25.0,!=1.25.1,<1.26,>=1.21.1\n",
            "  Downloading urllib3-1.25.11-py2.py3-none-any.whl (127 kB)\n",
            "\u001b[K     |████████████████████████████████| 127 kB 71.7 MB/s \n",
            "\u001b[?25hRequirement already satisfied: torch>=1.4.0 in /usr/local/lib/python3.7/dist-packages (from accelerate) (1.12.0+cu113)\n",
            "Requirement already satisfied: psutil in /usr/local/lib/python3.7/dist-packages (from accelerate) (5.4.8)\n",
            "Collecting multidict<7.0,>=4.5\n",
            "  Downloading multidict-6.0.2-cp37-cp37m-manylinux_2_17_x86_64.manylinux2014_x86_64.whl (94 kB)\n",
            "\u001b[K     |████████████████████████████████| 94 kB 4.4 MB/s \n",
            "\u001b[?25hCollecting yarl<2.0,>=1.0\n",
            "  Downloading yarl-1.7.2-cp37-cp37m-manylinux_2_5_x86_64.manylinux1_x86_64.manylinux_2_12_x86_64.manylinux2010_x86_64.whl (271 kB)\n",
            "\u001b[K     |████████████████████████████████| 271 kB 56.9 MB/s \n",
            "\u001b[?25hRequirement already satisfied: charset-normalizer<3.0,>=2.0 in /usr/local/lib/python3.7/dist-packages (from aiohttp->datasets) (2.1.0)\n",
            "Collecting async-timeout<5.0,>=4.0.0a3\n",
            "  Downloading async_timeout-4.0.2-py3-none-any.whl (5.8 kB)\n",
            "Requirement already satisfied: attrs>=17.3.0 in /usr/local/lib/python3.7/dist-packages (from aiohttp->datasets) (21.4.0)\n",
            "Collecting frozenlist>=1.1.1\n",
            "  Downloading frozenlist-1.3.0-cp37-cp37m-manylinux_2_5_x86_64.manylinux1_x86_64.manylinux_2_17_x86_64.manylinux2014_x86_64.whl (144 kB)\n",
            "\u001b[K     |████████████████████████████████| 144 kB 58.1 MB/s \n",
            "\u001b[?25hCollecting aiosignal>=1.1.2\n",
            "  Downloading aiosignal-1.2.0-py3-none-any.whl (8.2 kB)\n",
            "Collecting asynctest==0.13.0\n",
            "  Downloading asynctest-0.13.0-py3-none-any.whl (26 kB)\n",
            "Requirement already satisfied: zipp>=0.5 in /usr/local/lib/python3.7/dist-packages (from importlib-metadata->transformers) (3.8.0)\n",
            "Requirement already satisfied: pytz>=2017.3 in /usr/local/lib/python3.7/dist-packages (from pandas->datasets) (2022.1)\n",
            "Requirement already satisfied: python-dateutil>=2.7.3 in /usr/local/lib/python3.7/dist-packages (from pandas->datasets) (2.8.2)\n",
            "Requirement already satisfied: six>=1.5 in /usr/local/lib/python3.7/dist-packages (from python-dateutil>=2.7.3->pandas->datasets) (1.15.0)\n",
            "Building wheels for collected packages: nvidia-ml-py3\n",
            "  Building wheel for nvidia-ml-py3 (setup.py) ... \u001b[?25l\u001b[?25hdone\n",
            "  Created wheel for nvidia-ml-py3: filename=nvidia_ml_py3-7.352.0-py3-none-any.whl size=19190 sha256=1a32aaa185021c2f859db5c2e15307b780d18c3adba1cec8fec9a718b3f2359e\n",
            "  Stored in directory: /root/.cache/pip/wheels/df/99/da/c34f202dc8fd1dffd35e0ecf1a7d7f8374ca05fbcbaf974b83\n",
            "Successfully built nvidia-ml-py3\n",
            "Installing collected packages: multidict, frozenlist, yarl, urllib3, asynctest, async-timeout, aiosignal, pyyaml, fsspec, aiohttp, xxhash, tokenizers, responses, huggingface-hub, transformers, nvidia-ml-py3, datasets, accelerate\n",
            "  Attempting uninstall: urllib3\n",
            "    Found existing installation: urllib3 1.24.3\n",
            "    Uninstalling urllib3-1.24.3:\n",
            "      Successfully uninstalled urllib3-1.24.3\n",
            "  Attempting uninstall: pyyaml\n",
            "    Found existing installation: PyYAML 3.13\n",
            "    Uninstalling PyYAML-3.13:\n",
            "      Successfully uninstalled PyYAML-3.13\n",
            "Successfully installed accelerate-0.10.0 aiohttp-3.8.1 aiosignal-1.2.0 async-timeout-4.0.2 asynctest-0.13.0 datasets-2.3.2 frozenlist-1.3.0 fsspec-2022.5.0 huggingface-hub-0.8.1 multidict-6.0.2 nvidia-ml-py3-7.352.0 pyyaml-6.0 responses-0.18.0 tokenizers-0.12.1 transformers-4.20.1 urllib3-1.25.11 xxhash-3.0.0 yarl-1.7.2\n"
          ]
        }
      ]
    },
    {
      "cell_type": "code",
      "source": [
        "!pip install contractions"
      ],
      "metadata": {
        "colab": {
          "base_uri": "https://localhost:8080/"
        },
        "id": "UURhQ6N_rPzR",
        "outputId": "3e66bb64-2b17-4027-bcfc-16db0b3aab61"
      },
      "execution_count": null,
      "outputs": [
        {
          "output_type": "stream",
          "name": "stdout",
          "text": [
            "Looking in indexes: https://pypi.org/simple, https://us-python.pkg.dev/colab-wheels/public/simple/\n",
            "Collecting contractions\n",
            "  Downloading contractions-0.1.72-py2.py3-none-any.whl (8.3 kB)\n",
            "Collecting textsearch>=0.0.21\n",
            "  Downloading textsearch-0.0.21-py2.py3-none-any.whl (7.5 kB)\n",
            "Collecting anyascii\n",
            "  Downloading anyascii-0.3.1-py3-none-any.whl (287 kB)\n",
            "\u001b[K     |████████████████████████████████| 287 kB 7.3 MB/s \n",
            "\u001b[?25hCollecting pyahocorasick\n",
            "  Downloading pyahocorasick-1.4.4-cp37-cp37m-manylinux_2_17_x86_64.manylinux2014_x86_64.whl (106 kB)\n",
            "\u001b[K     |████████████████████████████████| 106 kB 70.3 MB/s \n",
            "\u001b[?25hInstalling collected packages: pyahocorasick, anyascii, textsearch, contractions\n",
            "Successfully installed anyascii-0.3.1 contractions-0.1.72 pyahocorasick-1.4.4 textsearch-0.0.21\n"
          ]
        }
      ]
    },
    {
      "cell_type": "code",
      "source": [
        "!pip install rouge"
      ],
      "metadata": {
        "colab": {
          "base_uri": "https://localhost:8080/"
        },
        "id": "QR-j9X8PRGb5",
        "outputId": "131dff8f-9c70-4f38-ff7c-5237f04c8c75"
      },
      "execution_count": null,
      "outputs": [
        {
          "output_type": "stream",
          "name": "stdout",
          "text": [
            "Looking in indexes: https://pypi.org/simple, https://us-python.pkg.dev/colab-wheels/public/simple/\n",
            "Collecting rouge\n",
            "  Downloading rouge-1.0.1-py3-none-any.whl (13 kB)\n",
            "Requirement already satisfied: six in /usr/local/lib/python3.7/dist-packages (from rouge) (1.15.0)\n",
            "Installing collected packages: rouge\n",
            "Successfully installed rouge-1.0.1\n"
          ]
        }
      ]
    },
    {
      "cell_type": "code",
      "source": [
        "import os\n",
        "import pandas as pd\n",
        "import nltk\n",
        "import contractions\n",
        "import sys\n",
        "import re\n",
        "from nltk.corpus import stopwords\n",
        "import numpy as np\n",
        "import transformers\n",
        "from rouge import Rouge\n",
        "import math\n",
        "import seaborn as sns\n",
        "import matplotlib.pyplot as plt\n",
        "import gensim\n",
        "import rouge\n",
        "\n",
        "import string  \n",
        "import nltk\n",
        "from nltk.tokenize import sent_tokenize, word_tokenize\n",
        "nltk.download('stopwords')\n",
        "nltk.download('wordnet')\n",
        "nltk.download('punkt')\n",
        "nltk.download('omw-1.4')\n",
        "from nltk.corpus import stopwords \n",
        "from nltk.stem import WordNetLemmatizer\n",
        "\n",
        "# For collecting the data about: train/validation/test sets, models\n",
        "from google.colab import drive"
      ],
      "metadata": {
        "id": "5Ln8lFXIm6cQ",
        "colab": {
          "base_uri": "https://localhost:8080/"
        },
        "outputId": "3ecfcd76-fc4d-4ca9-ff66-dfbbf7f6ed14"
      },
      "execution_count": null,
      "outputs": [
        {
          "output_type": "stream",
          "name": "stderr",
          "text": [
            "[nltk_data] Downloading package stopwords to /root/nltk_data...\n",
            "[nltk_data]   Unzipping corpora/stopwords.zip.\n",
            "[nltk_data] Downloading package wordnet to /root/nltk_data...\n",
            "[nltk_data] Downloading package punkt to /root/nltk_data...\n",
            "[nltk_data]   Unzipping tokenizers/punkt.zip.\n",
            "[nltk_data] Downloading package omw-1.4 to /root/nltk_data...\n"
          ]
        }
      ]
    },
    {
      "cell_type": "markdown",
      "source": [
        "For data' leaning - download stopwords:"
      ],
      "metadata": {
        "id": "cpvF_sTVU9RP"
      }
    },
    {
      "cell_type": "code",
      "source": [
        "nltk.download('stopwords')\n",
        "stop_words = stopwords.words('english')"
      ],
      "metadata": {
        "colab": {
          "base_uri": "https://localhost:8080/"
        },
        "id": "5wtBhd_xqnYR",
        "outputId": "f24a82e3-89c3-46e3-cf7c-f5baf4b7fddd"
      },
      "execution_count": null,
      "outputs": [
        {
          "output_type": "stream",
          "name": "stderr",
          "text": [
            "[nltk_data] Downloading package stopwords to /root/nltk_data...\n",
            "[nltk_data]   Package stopwords is already up-to-date!\n"
          ]
        }
      ]
    },
    {
      "cell_type": "code",
      "source": [
        "nltk.download('punkt')\n",
        "from nltk.tokenize import sent_tokenize"
      ],
      "metadata": {
        "colab": {
          "base_uri": "https://localhost:8080/"
        },
        "id": "1-4htTYMX6Nm",
        "outputId": "4e868c42-18f3-41c2-f3e9-c1fad3a38cd1"
      },
      "execution_count": null,
      "outputs": [
        {
          "output_type": "stream",
          "name": "stderr",
          "text": [
            "[nltk_data] Downloading package punkt to /root/nltk_data...\n",
            "[nltk_data]   Package punkt is already up-to-date!\n"
          ]
        }
      ]
    },
    {
      "cell_type": "markdown",
      "source": [
        "# Get data"
      ],
      "metadata": {
        "id": "hKNi8vK6NPXY"
      }
    },
    {
      "cell_type": "markdown",
      "source": [
        "Connect to google colab"
      ],
      "metadata": {
        "id": "Dx3cXyM6MfWv"
      }
    },
    {
      "cell_type": "code",
      "execution_count": null,
      "metadata": {
        "colab": {
          "base_uri": "https://localhost:8080/"
        },
        "id": "g8rKYGugWzDD",
        "outputId": "458e744f-8ec1-410d-f1f2-81e111ca0fa5"
      },
      "outputs": [
        {
          "output_type": "stream",
          "name": "stdout",
          "text": [
            "Mounted at /content/drive\n"
          ]
        }
      ],
      "source": [
        "drive.mount('/content/drive')"
      ]
    },
    {
      "cell_type": "markdown",
      "source": [
        "Download from Git (Raw Data) - NOT USED!"
      ],
      "metadata": {
        "id": "aDQORCB3Mqcn"
      }
    },
    {
      "cell_type": "code",
      "source": [
        "# %cd \"/content/drive/MyDrive/HIT/NLP/Final_Project/cnn_daily_mail_dataset\""
      ],
      "metadata": {
        "id": "e6_aLZlSXYgz"
      },
      "execution_count": null,
      "outputs": []
    },
    {
      "cell_type": "code",
      "source": [
        "# !git clone https://github.com/abisee/cnn-dailymail.git"
      ],
      "metadata": {
        "id": "ZGmsA1ZwXffq"
      },
      "execution_count": null,
      "outputs": []
    },
    {
      "cell_type": "markdown",
      "source": [
        "### Download from kaggle (Processed Data)\n",
        "Instructions: <br>\n",
        "https://medium.com/analytics-vidhya/how-to-directly-download-kaggle-dataset-to-google-drive-aa06175712e2"
      ],
      "metadata": {
        "id": "vjKKiSHaI8kE"
      }
    },
    {
      "cell_type": "code",
      "source": [
        "#Configuration environment\n",
        "\n",
        "# os.environ['KAGGLE_USERNAME'] = \"avivlazar\" # username from the json file\n",
        "# os.environ['KAGGLE_KEY'] = \"9f02c87e9cc8f4f5caf86706f8fe534d\" # key from the json file\n",
        "\n",
        "# !kaggle datasets download -d gowrishankarp/newspaper-text-summarization-cnn-dailymail"
      ],
      "metadata": {
        "id": "zRLCnLBsY2O_"
      },
      "execution_count": null,
      "outputs": []
    },
    {
      "cell_type": "code",
      "source": [
        "# %cd \"/content/drive/MyDrive/HIT/NLP/Final_Project/cnn_daily_mail_dataset/kaggle/cnn_dailymail\""
      ],
      "metadata": {
        "id": "5cG5CGq8M0jO"
      },
      "execution_count": null,
      "outputs": []
    },
    {
      "cell_type": "code",
      "source": [
        "# %ls"
      ],
      "metadata": {
        "id": "X2t_sd0ZNHvk"
      },
      "execution_count": null,
      "outputs": []
    },
    {
      "cell_type": "code",
      "source": [
        "# !unzip cnn_dailymail.zip # -d /content/drive/MyDrive/HIT/NLP/Final_Project/cnn_daily_mail_dataset/kaggle/cnn_dailymail"
      ],
      "metadata": {
        "id": "odkBFQKxKSZB"
      },
      "execution_count": null,
      "outputs": []
    },
    {
      "cell_type": "markdown",
      "source": [
        "NOT USED: <br>\n",
        "First algorithm we looked for understanding a possible way which also very simple: <br>\n",
        "https://www.kaggle.com/code/rakshithanil/textsummarization-simple-heapq-transformers\n",
        "\n"
      ],
      "metadata": {
        "id": "LHyyG_yMWRAB"
      }
    },
    {
      "cell_type": "markdown",
      "source": [
        "# Step 1: Read Data"
      ],
      "metadata": {
        "id": "1ZbIlxXNNIQ5"
      }
    },
    {
      "cell_type": "code",
      "source": [
        "kaggle_dir = f\"/content/drive/MyDrive/HIT/NLP/Final_Project/cnn_daily_mail_dataset/kaggle/cnn_dailymail\"\n",
        "\n",
        "def read_orig_data(type, num_samples=-1):\n",
        "  if num_samples > 0:\n",
        "    return pd.read_csv(f'{kaggle_dir}/orig_data/{type}.csv', nrows=num_samples)\n",
        "  else:\n",
        "    return pd.read_csv(f'{kaggle_dir}/orig_data/{type}.csv')\n",
        "\n",
        "def read_clean_data(type, num_samples=-1):\n",
        "  if num_samples > 0:\n",
        "    return pd.read_csv(f'{kaggle_dir}/clean_data/{type}.csv', nrows=num_samples)\n",
        "  else:\n",
        "    return pd.read_csv(f'{kaggle_dir}/clean_data/{type}.csv')"
      ],
      "metadata": {
        "id": "PV7_oZiDPyQE"
      },
      "execution_count": null,
      "outputs": []
    },
    {
      "cell_type": "code",
      "source": [
        "dummy_train_df = read_orig_data('train', num_samples=10)\n",
        "dummy_train_df.head(10)"
      ],
      "metadata": {
        "colab": {
          "base_uri": "https://localhost:8080/",
          "height": 363
        },
        "id": "GgKFjQrfK2JV",
        "outputId": "74ffc006-c902-48a0-9598-b18561575ae5"
      },
      "execution_count": null,
      "outputs": [
        {
          "output_type": "execute_result",
          "data": {
            "text/plain": [
              "                                         id  \\\n",
              "0  0001d1afc246a7964130f43ae940af6bc6c57f01   \n",
              "1  0002095e55fcbd3a2f366d9bf92a95433dc305ef   \n",
              "2  00027e965c8264c35cc1bc55556db388da82b07f   \n",
              "3  0002c17436637c4fe1837c935c04de47adb18e9a   \n",
              "4  0003ad6ef0c37534f80b55b4235108024b407f0b   \n",
              "5  0004306354494f090ee2d7bc5ddbf80b63e80de6   \n",
              "6  0005d61497d21ff37a17751829bd7e3b6e4a7c5c   \n",
              "7  0006021f772fad0aa78a977ce4a31b3faa6e6fe5   \n",
              "8  00083697263e215e5e7eda753070f08aa374dd45   \n",
              "9  000940f2bb357ac04a236a232156d8b9b18d1667   \n",
              "\n",
              "                                             article  \\\n",
              "0  By . Associated Press . PUBLISHED: . 14:11 EST...   \n",
              "1  (CNN) -- Ralph Mata was an internal affairs li...   \n",
              "2  A drunk driver who killed a young woman in a h...   \n",
              "3  (CNN) -- With a breezy sweep of his pen Presid...   \n",
              "4  Fleetwood are the only team still to have a 10...   \n",
              "5  He's been accused of making many a fashion fau...   \n",
              "6  By . Daily Mail Reporter . PUBLISHED: . 01:15 ...   \n",
              "7  By . Daily Mail Reporter . This is the moment ...   \n",
              "8  There are a number of job descriptions waiting...   \n",
              "9  Canberra, Australia (CNN) -- At first glance, ...   \n",
              "\n",
              "                                          highlights  \n",
              "0  Bishop John Folda, of North Dakota, is taking ...  \n",
              "1  Criminal complaint: Cop used his role to help ...  \n",
              "2  Craig Eccleston-Todd, 27, had drunk at least t...  \n",
              "3  Nina dos Santos says Europe must be ready to a...  \n",
              "4  Fleetwood top of League One after 2-0 win at S...  \n",
              "5  Prime Minister and his family are enjoying an ...  \n",
              "6  NBA star calls for black and Hispanic communit...  \n",
              "7  London Midland service had been pulling into T...  \n",
              "8  Tony Pulis believes Saido Berahino should look...  \n",
              "9  Black box data from Flight 370 could be analyz...  "
            ],
            "text/html": [
              "\n",
              "  <div id=\"df-b3bf7c95-ea2f-4e91-8cb7-597a94feb2bb\">\n",
              "    <div class=\"colab-df-container\">\n",
              "      <div>\n",
              "<style scoped>\n",
              "    .dataframe tbody tr th:only-of-type {\n",
              "        vertical-align: middle;\n",
              "    }\n",
              "\n",
              "    .dataframe tbody tr th {\n",
              "        vertical-align: top;\n",
              "    }\n",
              "\n",
              "    .dataframe thead th {\n",
              "        text-align: right;\n",
              "    }\n",
              "</style>\n",
              "<table border=\"1\" class=\"dataframe\">\n",
              "  <thead>\n",
              "    <tr style=\"text-align: right;\">\n",
              "      <th></th>\n",
              "      <th>id</th>\n",
              "      <th>article</th>\n",
              "      <th>highlights</th>\n",
              "    </tr>\n",
              "  </thead>\n",
              "  <tbody>\n",
              "    <tr>\n",
              "      <th>0</th>\n",
              "      <td>0001d1afc246a7964130f43ae940af6bc6c57f01</td>\n",
              "      <td>By . Associated Press . PUBLISHED: . 14:11 EST...</td>\n",
              "      <td>Bishop John Folda, of North Dakota, is taking ...</td>\n",
              "    </tr>\n",
              "    <tr>\n",
              "      <th>1</th>\n",
              "      <td>0002095e55fcbd3a2f366d9bf92a95433dc305ef</td>\n",
              "      <td>(CNN) -- Ralph Mata was an internal affairs li...</td>\n",
              "      <td>Criminal complaint: Cop used his role to help ...</td>\n",
              "    </tr>\n",
              "    <tr>\n",
              "      <th>2</th>\n",
              "      <td>00027e965c8264c35cc1bc55556db388da82b07f</td>\n",
              "      <td>A drunk driver who killed a young woman in a h...</td>\n",
              "      <td>Craig Eccleston-Todd, 27, had drunk at least t...</td>\n",
              "    </tr>\n",
              "    <tr>\n",
              "      <th>3</th>\n",
              "      <td>0002c17436637c4fe1837c935c04de47adb18e9a</td>\n",
              "      <td>(CNN) -- With a breezy sweep of his pen Presid...</td>\n",
              "      <td>Nina dos Santos says Europe must be ready to a...</td>\n",
              "    </tr>\n",
              "    <tr>\n",
              "      <th>4</th>\n",
              "      <td>0003ad6ef0c37534f80b55b4235108024b407f0b</td>\n",
              "      <td>Fleetwood are the only team still to have a 10...</td>\n",
              "      <td>Fleetwood top of League One after 2-0 win at S...</td>\n",
              "    </tr>\n",
              "    <tr>\n",
              "      <th>5</th>\n",
              "      <td>0004306354494f090ee2d7bc5ddbf80b63e80de6</td>\n",
              "      <td>He's been accused of making many a fashion fau...</td>\n",
              "      <td>Prime Minister and his family are enjoying an ...</td>\n",
              "    </tr>\n",
              "    <tr>\n",
              "      <th>6</th>\n",
              "      <td>0005d61497d21ff37a17751829bd7e3b6e4a7c5c</td>\n",
              "      <td>By . Daily Mail Reporter . PUBLISHED: . 01:15 ...</td>\n",
              "      <td>NBA star calls for black and Hispanic communit...</td>\n",
              "    </tr>\n",
              "    <tr>\n",
              "      <th>7</th>\n",
              "      <td>0006021f772fad0aa78a977ce4a31b3faa6e6fe5</td>\n",
              "      <td>By . Daily Mail Reporter . This is the moment ...</td>\n",
              "      <td>London Midland service had been pulling into T...</td>\n",
              "    </tr>\n",
              "    <tr>\n",
              "      <th>8</th>\n",
              "      <td>00083697263e215e5e7eda753070f08aa374dd45</td>\n",
              "      <td>There are a number of job descriptions waiting...</td>\n",
              "      <td>Tony Pulis believes Saido Berahino should look...</td>\n",
              "    </tr>\n",
              "    <tr>\n",
              "      <th>9</th>\n",
              "      <td>000940f2bb357ac04a236a232156d8b9b18d1667</td>\n",
              "      <td>Canberra, Australia (CNN) -- At first glance, ...</td>\n",
              "      <td>Black box data from Flight 370 could be analyz...</td>\n",
              "    </tr>\n",
              "  </tbody>\n",
              "</table>\n",
              "</div>\n",
              "      <button class=\"colab-df-convert\" onclick=\"convertToInteractive('df-b3bf7c95-ea2f-4e91-8cb7-597a94feb2bb')\"\n",
              "              title=\"Convert this dataframe to an interactive table.\"\n",
              "              style=\"display:none;\">\n",
              "        \n",
              "  <svg xmlns=\"http://www.w3.org/2000/svg\" height=\"24px\"viewBox=\"0 0 24 24\"\n",
              "       width=\"24px\">\n",
              "    <path d=\"M0 0h24v24H0V0z\" fill=\"none\"/>\n",
              "    <path d=\"M18.56 5.44l.94 2.06.94-2.06 2.06-.94-2.06-.94-.94-2.06-.94 2.06-2.06.94zm-11 1L8.5 8.5l.94-2.06 2.06-.94-2.06-.94L8.5 2.5l-.94 2.06-2.06.94zm10 10l.94 2.06.94-2.06 2.06-.94-2.06-.94-.94-2.06-.94 2.06-2.06.94z\"/><path d=\"M17.41 7.96l-1.37-1.37c-.4-.4-.92-.59-1.43-.59-.52 0-1.04.2-1.43.59L10.3 9.45l-7.72 7.72c-.78.78-.78 2.05 0 2.83L4 21.41c.39.39.9.59 1.41.59.51 0 1.02-.2 1.41-.59l7.78-7.78 2.81-2.81c.8-.78.8-2.07 0-2.86zM5.41 20L4 18.59l7.72-7.72 1.47 1.35L5.41 20z\"/>\n",
              "  </svg>\n",
              "      </button>\n",
              "      \n",
              "  <style>\n",
              "    .colab-df-container {\n",
              "      display:flex;\n",
              "      flex-wrap:wrap;\n",
              "      gap: 12px;\n",
              "    }\n",
              "\n",
              "    .colab-df-convert {\n",
              "      background-color: #E8F0FE;\n",
              "      border: none;\n",
              "      border-radius: 50%;\n",
              "      cursor: pointer;\n",
              "      display: none;\n",
              "      fill: #1967D2;\n",
              "      height: 32px;\n",
              "      padding: 0 0 0 0;\n",
              "      width: 32px;\n",
              "    }\n",
              "\n",
              "    .colab-df-convert:hover {\n",
              "      background-color: #E2EBFA;\n",
              "      box-shadow: 0px 1px 2px rgba(60, 64, 67, 0.3), 0px 1px 3px 1px rgba(60, 64, 67, 0.15);\n",
              "      fill: #174EA6;\n",
              "    }\n",
              "\n",
              "    [theme=dark] .colab-df-convert {\n",
              "      background-color: #3B4455;\n",
              "      fill: #D2E3FC;\n",
              "    }\n",
              "\n",
              "    [theme=dark] .colab-df-convert:hover {\n",
              "      background-color: #434B5C;\n",
              "      box-shadow: 0px 1px 3px 1px rgba(0, 0, 0, 0.15);\n",
              "      filter: drop-shadow(0px 1px 2px rgba(0, 0, 0, 0.3));\n",
              "      fill: #FFFFFF;\n",
              "    }\n",
              "  </style>\n",
              "\n",
              "      <script>\n",
              "        const buttonEl =\n",
              "          document.querySelector('#df-b3bf7c95-ea2f-4e91-8cb7-597a94feb2bb button.colab-df-convert');\n",
              "        buttonEl.style.display =\n",
              "          google.colab.kernel.accessAllowed ? 'block' : 'none';\n",
              "\n",
              "        async function convertToInteractive(key) {\n",
              "          const element = document.querySelector('#df-b3bf7c95-ea2f-4e91-8cb7-597a94feb2bb');\n",
              "          const dataTable =\n",
              "            await google.colab.kernel.invokeFunction('convertToInteractive',\n",
              "                                                     [key], {});\n",
              "          if (!dataTable) return;\n",
              "\n",
              "          const docLinkHtml = 'Like what you see? Visit the ' +\n",
              "            '<a target=\"_blank\" href=https://colab.research.google.com/notebooks/data_table.ipynb>data table notebook</a>'\n",
              "            + ' to learn more about interactive tables.';\n",
              "          element.innerHTML = '';\n",
              "          dataTable['output_type'] = 'display_data';\n",
              "          await google.colab.output.renderOutput(dataTable, element);\n",
              "          const docLink = document.createElement('div');\n",
              "          docLink.innerHTML = docLinkHtml;\n",
              "          element.appendChild(docLink);\n",
              "        }\n",
              "      </script>\n",
              "    </div>\n",
              "  </div>\n",
              "  "
            ]
          },
          "metadata": {},
          "execution_count": 16
        }
      ]
    },
    {
      "cell_type": "markdown",
      "source": [
        "We don't need the id column:"
      ],
      "metadata": {
        "id": "f2pFlMQsoXcg"
      }
    },
    {
      "cell_type": "code",
      "source": [
        "dummy_train_df = dummy_train_df.drop(['id'],axis=1)"
      ],
      "metadata": {
        "id": "eOZyJeEmO26_"
      },
      "execution_count": null,
      "outputs": []
    },
    {
      "cell_type": "code",
      "source": [
        "dummy_train_df.info()"
      ],
      "metadata": {
        "colab": {
          "base_uri": "https://localhost:8080/"
        },
        "id": "BpvhIvNtosQ_",
        "outputId": "276d9159-5fe8-416b-e2a0-71c3deafb125"
      },
      "execution_count": null,
      "outputs": [
        {
          "output_type": "stream",
          "name": "stdout",
          "text": [
            "<class 'pandas.core.frame.DataFrame'>\n",
            "RangeIndex: 10 entries, 0 to 9\n",
            "Data columns (total 2 columns):\n",
            " #   Column      Non-Null Count  Dtype \n",
            "---  ------      --------------  ----- \n",
            " 0   article     10 non-null     object\n",
            " 1   highlights  10 non-null     object\n",
            "dtypes: object(2)\n",
            "memory usage: 288.0+ bytes\n"
          ]
        }
      ]
    },
    {
      "cell_type": "markdown",
      "source": [
        "# Analysis Data"
      ],
      "metadata": {
        "id": "vSpYCopzpTHf"
      }
    },
    {
      "cell_type": "markdown",
      "source": [
        "Analizing the data:<br>\n",
        "Count words<br>\n",
        "Count sentences<br>\n",
        "<br>\n",
        "Full analysis: https://towardsdatascience.com/text-summarization-with-nlp-textrank-vs-seq2seq-vs-bart-474943efeb09"
      ],
      "metadata": {
        "id": "9tIR-i0Nvg9Z"
      }
    },
    {
      "cell_type": "code",
      "source": [
        "def add_count_columns(df_analyzed):\n",
        "  article_words_count = []\n",
        "  highlights_words_count = []\n",
        "  article_sentences_count = []\n",
        "  highlights_sentences_count = []\n",
        "\n",
        "  for i in range(len(df_analyzed)):\n",
        "    # words count:\n",
        "    article_words_count.append(len(df_analyzed['article'].str.lower().str.split()[i]))\n",
        "    highlights_words_count.append(len(df_analyzed['highlights'].str.lower().str.split()[i]))\n",
        "    # sentences count:\n",
        "    article_sentences_count.append(len(sent_tokenize(df_analyzed['article'].str.lower()[i])))\n",
        "    highlights_sentences_count.append(len(sent_tokenize(df_analyzed['highlights'].str.lower()[i])))\n",
        "\n",
        "  # add counts columns to df:\n",
        "  df_analyzed['article_words_count'] = article_words_count\n",
        "  df_analyzed['highlights_words_count'] = highlights_words_count\n",
        "  df_analyzed['article_sentences_count'] = article_sentences_count\n",
        "  df_analyzed['highlights_sentences_count'] = highlights_sentences_count"
      ],
      "metadata": {
        "id": "VMrm9Vyuj2jK"
      },
      "execution_count": null,
      "outputs": []
    },
    {
      "cell_type": "code",
      "source": [
        "# clean_train_df = pd.read_csv(f'{kaggle_dir}/clean_data/train.csv')"
      ],
      "metadata": {
        "id": "52POuz9JU6TO"
      },
      "execution_count": null,
      "outputs": []
    },
    {
      "cell_type": "code",
      "source": [
        "dummy_train_df_analyzed = dummy_train_df\n",
        "\n",
        "add_count_columns(dummy_train_df_analyzed)\n",
        "print(dummy_train_df_analyzed)"
      ],
      "metadata": {
        "colab": {
          "base_uri": "https://localhost:8080/"
        },
        "id": "qCd4sIVI4QPq",
        "outputId": "8d118039-bf99-4fb6-fe82-cb66013af570"
      },
      "execution_count": null,
      "outputs": [
        {
          "output_type": "stream",
          "name": "stdout",
          "text": [
            "                                             article  \\\n",
            "0  By . Associated Press . PUBLISHED: . 14:11 EST...   \n",
            "1  (CNN) -- Ralph Mata was an internal affairs li...   \n",
            "2  A drunk driver who killed a young woman in a h...   \n",
            "3  (CNN) -- With a breezy sweep of his pen Presid...   \n",
            "4  Fleetwood are the only team still to have a 10...   \n",
            "5  He's been accused of making many a fashion fau...   \n",
            "6  By . Daily Mail Reporter . PUBLISHED: . 01:15 ...   \n",
            "7  By . Daily Mail Reporter . This is the moment ...   \n",
            "8  There are a number of job descriptions waiting...   \n",
            "9  Canberra, Australia (CNN) -- At first glance, ...   \n",
            "\n",
            "                                          highlights  article_words_count  \\\n",
            "0  Bishop John Folda, of North Dakota, is taking ...                  198   \n",
            "1  Criminal complaint: Cop used his role to help ...                  392   \n",
            "2  Craig Eccleston-Todd, 27, had drunk at least t...                  808   \n",
            "3  Nina dos Santos says Europe must be ready to a...                  531   \n",
            "4  Fleetwood top of League One after 2-0 win at S...                  580   \n",
            "5  Prime Minister and his family are enjoying an ...                  334   \n",
            "6  NBA star calls for black and Hispanic communit...                  742   \n",
            "7  London Midland service had been pulling into T...                  621   \n",
            "8  Tony Pulis believes Saido Berahino should look...                  609   \n",
            "9  Black box data from Flight 370 could be analyz...                  888   \n",
            "\n",
            "   highlights_words_count  article_sentences_count  highlights_sentences_count  \n",
            "0                      37                       12                           3  \n",
            "1                      38                       18                           3  \n",
            "2                      69                       33                           5  \n",
            "3                      53                       22                           3  \n",
            "4                      67                       24                           5  \n",
            "5                      42                       29                           3  \n",
            "6                      23                       61                           2  \n",
            "7                      54                       33                           3  \n",
            "8                      59                       38                           5  \n",
            "9                      56                       42                           4  \n"
          ]
        }
      ]
    },
    {
      "cell_type": "markdown",
      "source": [
        "# Preprocessing: Clean the data"
      ],
      "metadata": {
        "id": "qCMlA5uIsbLp"
      }
    },
    {
      "cell_type": "markdown",
      "source": [
        "Example for cleaning CNN/Daily-Mail: <br>\n",
        "https://machinelearningmastery.com/prepare-news-articles-text-summarization/"
      ],
      "metadata": {
        "id": "sK4JWLd7ZPBC"
      }
    },
    {
      "cell_type": "markdown",
      "source": [
        "Let's show some examples of how our data looks like"
      ],
      "metadata": {
        "id": "RBNHQxSXs3lT"
      }
    },
    {
      "cell_type": "code",
      "source": [
        "train_df = read_orig_data('train')"
      ],
      "metadata": {
        "id": "aBy5wPY3zwOD"
      },
      "execution_count": null,
      "outputs": []
    },
    {
      "cell_type": "code",
      "source": [
        "train_df.info"
      ],
      "metadata": {
        "id": "_nJM3tnMz95X",
        "colab": {
          "base_uri": "https://localhost:8080/"
        },
        "outputId": "4d549743-81b8-4efd-eda5-0fca51e3c8e4"
      },
      "execution_count": null,
      "outputs": [
        {
          "output_type": "execute_result",
          "data": {
            "text/plain": [
              "<bound method DataFrame.info of                                               id  \\\n",
              "0       0001d1afc246a7964130f43ae940af6bc6c57f01   \n",
              "1       0002095e55fcbd3a2f366d9bf92a95433dc305ef   \n",
              "2       00027e965c8264c35cc1bc55556db388da82b07f   \n",
              "3       0002c17436637c4fe1837c935c04de47adb18e9a   \n",
              "4       0003ad6ef0c37534f80b55b4235108024b407f0b   \n",
              "...                                          ...   \n",
              "287108  fffdfb56fdf1a12d364562cc2b9b1d4de7481dee   \n",
              "287109  fffeecb8690b85de8c3faed80adbc7a978f9ae2a   \n",
              "287110  ffff5231e4c71544bc6c97015cdb16c60e42b3f4   \n",
              "287111  ffff924b14a8d82058b6c1c5368ff1113c1632af   \n",
              "287112  ffffd563a96104f5cf4493cfa701a65f31b06abf   \n",
              "\n",
              "                                                  article  \\\n",
              "0       By . Associated Press . PUBLISHED: . 14:11 EST...   \n",
              "1       (CNN) -- Ralph Mata was an internal affairs li...   \n",
              "2       A drunk driver who killed a young woman in a h...   \n",
              "3       (CNN) -- With a breezy sweep of his pen Presid...   \n",
              "4       Fleetwood are the only team still to have a 10...   \n",
              "...                                                   ...   \n",
              "287108  By . James Rush . Former first daughter Chelse...   \n",
              "287109  An apologetic Vanilla Ice has given his first ...   \n",
              "287110  America's most lethal sniper claimed he wished...   \n",
              "287111  By . Sara Malm . PUBLISHED: . 12:19 EST, 8 Mar...   \n",
              "287112  (CNN)Former Florida Gov. Jeb Bush has decided ...   \n",
              "\n",
              "                                               highlights  \n",
              "0       Bishop John Folda, of North Dakota, is taking ...  \n",
              "1       Criminal complaint: Cop used his role to help ...  \n",
              "2       Craig Eccleston-Todd, 27, had drunk at least t...  \n",
              "3       Nina dos Santos says Europe must be ready to a...  \n",
              "4       Fleetwood top of League One after 2-0 win at S...  \n",
              "...                                                   ...  \n",
              "287108  Chelsea Clinton said question of running for o...  \n",
              "287109  Vanilla Ice, 47 - real name Robert Van Winkle ...  \n",
              "287110  America's most lethal sniper made comment in i...  \n",
              "287111  A swarm of more than one million has crossed b...  \n",
              "287112  Other 2016 hopefuls maintain that Bush's annou...  \n",
              "\n",
              "[287113 rows x 3 columns]>"
            ]
          },
          "metadata": {},
          "execution_count": 23
        }
      ]
    },
    {
      "cell_type": "code",
      "source": [
        "def print_with_line_limit(text, limit=100):\n",
        "  print(re.sub(f\"(.{{{limit}}})\", \"\\\\1\\n\", text, 0, re.DOTALL), end='\\n\\n')\n",
        "\n",
        "def print_selected_articles(df, num_samples=10):\n",
        "  nrows = df.shape[0]\n",
        "  jump = math.floor(nrows / num_samples)\n",
        "  selected_articles = [i for i in range(0, nrows, jump)]\n",
        "  filtered_df = df.iloc[selected_articles]\n",
        "\n",
        "  for _, values in filtered_df[['article']].iterrows():\n",
        "    cur_article = values['article']\n",
        "    print(f\"Article length: {len(cur_article)}\")\n",
        "    # print(re.sub(\"(.{100})\", \"\\\\1\\n\", cur_article, 0, re.DOTALL), end='\\n\\n')\n",
        "    print_with_line_limit(cur_article)"
      ],
      "metadata": {
        "id": "rUfChYBR4xtT"
      },
      "execution_count": null,
      "outputs": []
    },
    {
      "cell_type": "code",
      "source": [
        "print_selected_articles(train_df)"
      ],
      "metadata": {
        "id": "28uCA2eMu_UT",
        "colab": {
          "base_uri": "https://localhost:8080/"
        },
        "outputId": "786569df-0206-43c7-bd19-cc7e04252484"
      },
      "execution_count": null,
      "outputs": [
        {
          "output_type": "stream",
          "name": "stdout",
          "text": [
            "Article length: 1211\n",
            "By . Associated Press . PUBLISHED: . 14:11 EST, 25 October 2013 . | . UPDATED: . 15:36 EST, 25 Octob\n",
            "er 2013 . The bishop of the Fargo Catholic Diocese in North Dakota has exposed potentially hundreds \n",
            "of church members in Fargo, Grand Forks and Jamestown to the hepatitis A virus in late September and\n",
            " early October. The state Health Department has issued an advisory of exposure for anyone who attend\n",
            "ed five churches and took communion. Bishop John Folda (pictured) of the Fargo Catholic Diocese in N\n",
            "orth Dakota has exposed potentially hundreds of church members in Fargo, Grand Forks and Jamestown t\n",
            "o the hepatitis A . State Immunization Program Manager Molly Howell says the risk is low, but offici\n",
            "als feel it's important to alert people to the possible exposure. The diocese announced on Monday th\n",
            "at Bishop John Folda is taking time off after being diagnosed with hepatitis A. The diocese says he \n",
            "contracted the infection through contaminated food while attending a conference for newly ordained b\n",
            "ishops in Italy last month. Symptoms of hepatitis A include fever, tiredness, loss of appetite, naus\n",
            "ea and abdominal discomfort. Fargo Catholic Diocese in North Dakota (pictured) is where the bishop i\n",
            "s located .\n",
            "\n",
            "Article length: 1317\n",
            "Alex Oxlade-Chamberlain forgot about England's team huddle moments before kick-off as Roy Hodgson's \n",
            "side beat Scotland 3-1 at Celtic Park. As the rest of the England squad came together to rouse thems\n",
            "elves for the fixture against the Auld Enemy, Oxlade-Chamberlain appears oblivious as he makes his w\n",
            "ay to his position ready for the start of the match. The Arsenal midfielder was caught on camera tro\n",
            "tting off as he completed his own final preparations, failing to realise he had left a gaping hole i\n",
            "n the huddle. As the England squad come together for a pre-match huddle Alex Oxlade-Chamberlain is o\n",
            "blivious . The Arsenal midfielder completes his own final preparations as he leaves a hole in the hu\n",
            "ddle . Team-mates call him over and Oxlade-Chamberlain jogs towards the rest of squad for the pre-ma\n",
            "tch pep talk . The 21-year-old (far left) finally took his place in the huddle before England beat S\n",
            "cotland 3-1 . The 21-year-old's team-mates are seen calling Oxlade-Chamberlain over to listen to cap\n",
            "tain Wayne Rooney's pre-match pep talk. He leisurely turns and jogs back towards the huddle and even\n",
            "tually joins his team-mates. The incident obviously didn't effect the former Southampton player's pe\n",
            "rformance as he gave England a first-half lead with a glancing header and set the Three Lions on the\n",
            " road to victory.\n",
            "\n",
            "Article length: 7732\n",
            "By . Associated Press and Anthony Bond . PUBLISHED: . 22:08 EST, 1 August 2013 . | . UPDATED: . 07:4\n",
            "7 EST, 2 August 2013 . Promising career: Advertising executive Jennifer Rosoff was on a first date w\n",
            "hen she plunged to her death . A horrified man was heard screaming 'My friend fell! She fell off the\n",
            " building!' after his date plummeted to her death from a 17th-storey balcony. Stephen Close, 35, had\n",
            " been out to dinner with Jennifer Rosoff, 35, on Wednesday evening before she invited him back to he\n",
            "r apartment in New York. At just before 1am yesterday the pair, who were on their first date, went o\n",
            "nto the . narrow balcony of the apartment for a cigarette. But when Miss Rosoff placed her leg on th\n",
            "e railing to stretch, insisting to her concerned . date that it was safe, the balcony collapsed, sen\n",
            "ding the successful advertising executive plummeting 140 feet to her death. As reported by the New Y\n",
            "ork Post, witnesses heard Mr Close, who works in real estate, scream : 'My friend fell! She fell off\n",
            " the building!' A witness said he was 'hysterical' and ran outside screaming 'Oh my god!' Speaking t\n",
            "o the newspaper, a police source said Mr Close tried to warn the woman to get down. He heard two pop\n",
            "s before the railing buckled, sending his date plummeting to the ground. 'He . looked at the balcony\n",
            ", and he told her, \"Look, this thing looks . unstable. Hey, maybe you want to get down,\" the source \n",
            "said. Emergency crews pronounced Rosoff dead at the scene. The medical examiner will determine a cau\n",
            "se of death. Rosoff, . who graduated from Tulane University in New Orleans with a degree in communic\n",
            "ations, worked at The New . Yorker, Lucky Magazine and Cosmopolitan before recently joining a new . \n",
            "media advertising startup called TripleLift employing about 15 people, . according to her LinkedIn p\n",
            "rofile. ‘Her . tremendous energy and humor brought so much joy to the office,’ the . chief executive\n",
            ", Eric Berry, said in a statement. ‘The entire company is . distraught by the loss of Ms. Rosoff — s\n",
            "he will be deeply missed.’ Her Twitter account was updated shortly before her fatal fall. As news of\n",
            " Rosoff's tragic death spread online, tributes started pouring in from devastated co-workers and fri\n",
            "ends. Rosoff's sister, Alexis Treeby, heard about her sister's tragic demise at about 5am. 'She was \n",
            "a lovely person. My children adored her,' Treeby told DNAinfo. 'She was kind, generous and did chari\n",
            "ty work.' Jennifer Rosoff, 35, plunged 17 floors to her death after the balcony railing gave way whe\n",
            "n she leaned on it . The two metal balcony railings on Rosoff's corner apartment were bent down in a\n",
            " V-shape . Those . who knew her described Rosoff as an 'A-player' in the highly . competitive media \n",
            "advertising field who was career-driven and very . athletic. ‘Jenn was a force to be reckoned with, \n",
            "smart, dynamic and charismatic,’ Lisa Hughes, the publisher of The New Yorker, told the New York Tim\n",
            "es. Danny Bellish, 26, a sales manager at the food magazine Saveur, recalled to amNY how in 2009, Ro\n",
            "soff drew a map for him on the back of a menu outlining all the things he needed to do to advance hi\n",
            "s career. Rosoff, who at the time worked for . Cosmopolitan, also helped Bellish's girlfriend land a\n",
            "n internship and . organized a trunk show for his mother's jewelry business. The gray brick high-ris\n",
            "e building on Manhattan's Upper East Side was built before World War II. Only . the higher-floor cor\n",
            "ner apartments have balconies, and the city's . buildings department ordered residents to stay off t\n",
            "hem following the . woman’s deadly fall. A . photo of the corner balcony of the apartment where Roso\n",
            "ff lived shows . the top two metal railings bent down in a V-shape. Buildings officials . took part \n",
            "of the broken railing to examine how it could have given way . and plan to determine whether the oth\n",
            "er balconies are structurally . sound. The company that manages the upscale . Manhattan building was\n",
            " slapped with a fine earlier this year . for filing a safety inspection reports several months late,\n",
            " it was . revealed tonight. However the safety inspection was carried out and residents maintain the\n",
            " building was well maintained. In . 2010, after 24-year-old social worker Connor Donohue fell from h\n",
            "is . 24th-floor balcony at 330 East 39th Street  when the railing gave way, . the city conducted saf\n",
            "ety inspections on hundreds of residences. Tenants . at 16 buildings were ordered to stay off their \n",
            "balconies because they . were deemed unsafe. 'A-player': Rosoff's friends described her as a 'force \n",
            "to be reckoned with' who was career-driven and athletic . Some 800 . building owners failed to file \n",
            "mandatory inspection reports on the . safety of their balconies and terraces, officials found. They \n",
            "are . required to file every five years. For . Rosoff's building, which was bought by the property m\n",
            "anagement company . Stonehenge a year-and-a-half ago, the inspection report was last filed . in Febr\n",
            "uary several months past due, causing the company to incur a $250 . penalty. Local . residents said \n",
            "their apartment building is well-maintained and that Stonehenge has been making major improvement to\n",
            " the units. In . a written statement, the management company said: ‘This is a tragedy and . our sinc\n",
            "ere condolences go out to the family and friends of Ms Rosoff. Dynamic: Rosoff, a graduate of Tulane\n",
            " University, worked at The New Yorker, Lucky Magazine and Cosmopolitan before recently joining a new\n",
            " media advertising startup . ‘We are cooperating fully with the investigation into the cause of this\n",
            " terrible accident.’ Those . who knew the 35-year-old described her as an 'A-player' in the highly .\n",
            " competitive media advertising field who was career-driven and very . athletic. Jennifer . Rosoff we\n",
            "nt outside for a cigarette with her date, who she met online, . about 12.50am Thursday when the rail\n",
            "ing of the narrow balcony collapsed . after she propped her leg on it to stretch, according to DNAin\n",
            "fo. When . the volunteer charity worker's date told her that it wasn't safe to . lean on the railing\n",
            ", she insisted she 'did it all the time' before . tumbling from the Stonehedge 57 apartment ledge, l\n",
            "anding on construction . scaffolding on the first floor. Emergency crews pronounced Rosoff dead at t\n",
            "he scene. Associated Press said the railings were made of metal, which witnesses claim were 'bent an\n",
            "d twisted'. New York Post claims its sources revealed the date told police he heard two sharp pops b\n",
            "efore the railing collapsed. Police have cleared the man, who had met Rosoff in person for the first\n",
            " time that night, of any possible wrongdoing. DNAinfo reported the man's parents answered his apartm\n",
            "ent door and said he . was home, but declined to comment. Neighbors . at the 400 East 57th Street bu\n",
            "ilding, near First Avenue in Manhattan's . Midtown East, compared the sound of Rosoff's fall to a 'g\n",
            "unshot' and a . 'punch'. Soda executive Steve Hersch, who lives two doors down from Rosoff, told DNA\n",
            "info: 'I heard a bang. I thought it was a gunshot.' Sara Shubert said: 'It sounded like a 200-pound \n",
            "punch.' Precaution: The city's buildings department ordered residents to stay off their balconies fo\n",
            "llowing the woman¿s deadly fall . Jennifer Rosoff, 35, has plunged to her death while on her first d\n",
            "ate after the railing on her 17th-floor New York City balcony gave way . Meanwhile the Department of\n",
            " Buildings issued a vacate order for the building's . balconies this morning, saying conditions ther\n",
            "e were 'imminently . perilous to life'. A department spokeswoman told New York Times that inspectors\n",
            " were investigating conditions and would report on their findings later today. However, Daily News r\n",
            "eported . the building was cited for a construction violation on June 27, . according to the Departm\n",
            "ent of Buildings online records.\n",
            "\n",
            "Article length: 2807\n",
            "Mogadishu, Somalia (CNN) -- Somalia's top militant group may soon counter the government's recent th\n",
            "rust against them with an offensive of their own. African Union intelligence sources say Al-Shabaab \n",
            "is massing hundreds of troops in the African nation's embattled capital of Mogadishu for a show of f\n",
            "orce during the Muslim month of Ramadan, which begins Monday. The sources said Al-Shabaab received a\n",
            " shipment of weapons by sea in preparation for this offensive. They believe that Al-Shabaab allies i\n",
            "n Yemen shipped the items across the Red Sea to Somalia. Ramadan is a period of fasting and religiou\n",
            "s reflection. Islamic radicals have chosen the period to carry out attacks against their enemies dur\n",
            "ing the holy month. Fighting has intensified this summer as Somali government forces -- backed by tr\n",
            "oops from the African Union -- have battled insurgents from the militant Al-Shabaab. Somali governme\n",
            "nt forces on Thursday launched an offensive on Islamist strongholds in northern Mogadishu. The U.N. \n",
            "refugee agency on Friday expressed concerns about \"the protection of civilians\" in Mogadishu amid th\n",
            "e fighting. But African Union forces said the offensive was launched to counter Al-Shabaab attacks o\n",
            "n displaced persons camps. \"An offensive on Thursday by pro-government forces in and around the impo\n",
            "rtant Bakara and Balcad markets has increased the risk for Mogadishu's citizens as well as the estim\n",
            "ated 100,000 internally displaced people (IDP) who have fled drought and famine in neighbouring regi\n",
            "ons in recent months,\" the U.N. High Commissioner for Refugees said. Since September, African Union \n",
            "forces said they have steadily been taking territory in the capital from Al-Shabaab. The fighting co\n",
            "mes also as Somalia is battling its worst drought in 60 years and tens of thousands of famine-strick\n",
            "en people are walking for days into both Kenya and Ethiopia in search of food and water and away fro\n",
            "m the conflict between government forces and rebels. The United Nations on Friday said it is asking \n",
            "for a further $1.4 billion to help starving people across the Horn of Africa. The request lifts the \n",
            "Horn of Africa appeal to $2.4 billion, of which $1 billion has been received so far. \"More than 12 m\n",
            "illion people -- in Kenya, Ethiopia, Somalia and Djibouti -- are in dire need of help, and the situa\n",
            "tion is getting worse,\" said Valerie Amos, U.N. Emergency Relief Coordinator and head of the Office \n",
            "for the Coordination of Humanitarian Affairs. \"If we are to avoid this crisis becoming an even bigge\n",
            "r catastrophe, we must act now.\" Meanwhile, Erastus Mwencha, the African Union Commission deputy chi\n",
            "ef, visited Mogadishu to assess the humanitarian situation and announced an international pledging c\n",
            "onference August 9 in Ethiopia. The African Union has already donated $500,000 of assistance in the \n",
            "famine.\n",
            "\n",
            "Article length: 2027\n",
            "(CNN) -- Brad Pitt has a warning for his accused attacker, Vitalii Sediuk: \"If he tries to look up a\n",
            " woman's dress again, he's going to get stomped.\" That's what the actor said on Monday in a statemen\n",
            "t released to People magazine, referring to the former Ukrainian TV reporter who has had two recent \n",
            "run-ins with actors at red carpet events. On May 28, Sediuk jumped the rope on the red carpet at the\n",
            " \"Maleficent\" movie premiere and attacked Pitt. Earlier that month, Sediuk went after actress Americ\n",
            "a Ferrera, jumping under her dress on the Cannes Film Festival red carpet. That incident resulted in\n",
            " his being fired from his position with Ukrainian television channel 1+1, and Sediuk was later charg\n",
            "ed with one count of battery, one count of assault and two violations of the Los Angeles municipal c\n",
            "ode following his altercation with Pitt. In his statement, Pitt gave his version of what happened be\n",
            "tween him and Sediuk as the actor strolled the red carpet in support of the film starring his partne\n",
            "r, Angelina Jolie. \"I was at the end of the line signing autographs, when out the corner of my eye I\n",
            " saw someone stage-diving over the barrier at me,\" Pitt said in his statement. \"I took a step back; \n",
            "this guy had latched onto my lapels. I looked down and the nutter was trying to bury his face in my \n",
            "crotch, so I cracked him twice in the back of the head -- not too hard -- but enough to get his atte\n",
            "ntion, because he did let go. I think he was then just grabbing for a hand hold because the guys wer\n",
            "e on him, and he reached up and caught my glasses.\" The \"Benjamin Button\" star went on to say that S\n",
            "ediuk's actions might influence how celebrities interact with the public in the future. \"I don't min\n",
            "d an exhibitionist,\" Pitt said, \"but if this guy keeps it up he's going to spoil it for the fans who\n",
            " have waited up all night for an autograph or a selfie, because it will make (celebrities) more wary\n",
            " to approach a crowd.\" Grammys stage-crasher reveals his entry plan . Will Smith on the red carpet s\n",
            "lap heard 'round the world'\n",
            "\n",
            "Article length: 3236\n",
            "Created: . 23:04 EST, 26 February 2015 . This is the moment a benefits cheat was caught on camera lu\n",
            "gging around wood which weighed more than seven stone - despite pocketing £30,000 in state handouts \n",
            "because he was 'too sick to work'. Mark Barnes, 60, from Bacup, Lancashire, received an annual £30,0\n",
            "00 in benefits over a seven-year period after claiming he was unable to work due to a debilitating i\n",
            "llness. But, after an anonymous tip-off, investigators found Barnes was secretly working as a woodcu\n",
            "tter, while still receiving income support, council tax benefit and employment support allowance. Sc\n",
            "roll down for video . This is the moment a benefits cheat who pocketed £30,000 in state handouts by \n",
            "claiming he was too sick to work for seven years was caught lugging firewood weighing more than seve\n",
            "n stone . Mark Barnes, 60, from Bacup, Lancashire, received nearly £30,000  each year after claiming\n",
            " he was unable to work due to a debilitating illness . Officers for the Department for Work and Pens\n",
            "ion set up a camera at his work and covertly filmed Barnes chopping up the wood, before lugging it o\n",
            "ff into a container. The wood, which he then sold on to a local garden centre, was estimated to weig\n",
            "h more than seven-and-a-half stone, according to the Daily Mirror. Burnley Crown Court heard how Bar\n",
            "nes sold on the kindling, making £70 cash per week. He told government officials that he thought he \n",
            "was entitled to earn the money while still claiming the handouts, the court heard. Barnes admitted t\n",
            "wo charges of dishonestly failing to promptly notify a change in circumstances. He also admitted mak\n",
            "ing a false representation for job seekers' allowance to Rossendale Council in October 2013. After a\n",
            "n anonymous tip-off, investigators from the Department for Work and Pensions found Barnes was secret\n",
            "ly working as a woodcutter . Prosecutor Claire Thomas said Barnes had claimed benefits since Februar\n",
            "y 2000 for himself and two children. After claiming he could not work through illness, he  made decl\n",
            "arations to the DWP when his son started work, but never told the department he too was working. The\n",
            "re was no claim for compensation as the department plans to start civil proceedings to recover the m\n",
            "oney, the court heard. Officers for the Department for Work and Pensions then filmed him chopping up\n",
            " wood, before lugging sacks of it into a container, ready to be sold on . Barnes admitted two charge\n",
            "s of dishonestly failing to promptly notify a change in circumstances, initially for income support \n",
            "and later employment support allowance, and council tax benefit . Richard Dawson, defending, said: '\n",
            "It is own foolishness that has placed him in the position that he now finds himself. If he explained\n",
            " his situation then he might well have been entitled to certain benefits.' He was given a 12-month c\n",
            "ommunity order and 200 hours unpaid work after admitting to failing to notify the authorities about \n",
            "his job. Judge Andrew Long said: 'I am not unsympathetic to your situation. You are a man of previou\n",
            "s good character and you showed some nous in getting yourself some work. 'But it was dishonest in th\n",
            "at you didn't notify the department. It may well be if you had been honest then you would have recei\n",
            "ved benefits of some sort or other.'\n",
            "\n",
            "Article length: 6028\n",
            "By . Helen Collis . PUBLISHED: . 07:16 EST, 2 September 2013 . | . UPDATED: . 11:53 EST, 2 September\n",
            " 2013 . It was a permanent reminder of one of the First World War's bloodiest battlefields, a scale \n",
            "model of the opposing lines created in an English field for the education of Allied troops. Now a di\n",
            "g to uncover the model built by German prisoners of war which long since has become covered by earth\n",
            " and foliage is set to start. Archaeologists will begin charting the site, the only example of its k\n",
            "ind left in the UK, which was planned out in painstaking detail by troops returned from the Battle o\n",
            "f Messines on the Western Front, fought in June 1917. Archaeologists will begin charting the site of\n",
            " the Staffordshire model of the Battle of Messines, Belgium, which was planned out in painstaking de\n",
            "tail by troops returned from the war . Experts said the terrain model was built . not only as a trai\n",
            "ning aid for other soldiers at Brocton Camp, in . Staffordshire, but in recognition at the horrific \n",
            "toll of slaughter the . battle - fought around the landmark Messines ridge - took on the . brigade. \n",
            "The ridge formed an anchor in the German front lines but the week-long offensive of infantry attack,\n",
            " aerial bombardment and heavy shelling resulted in an Allied victory with four Victoria Crosses awar\n",
            "ded to Empire soldiers for bravery during the fight. The terrible human cost of the battle ran to 50\n",
            ",000 men killed, wounded or missing across both sides. The battle was fought in the build-up to the \n",
            "much larger and far bloodier Passchendaele offensive which would begin in July of that year. Recreat\n",
            "ion: The battle field was recreated by veterans as well as German prisoners of war in the battle's a\n",
            "ftermath. It was one of the First World War's bloodiest battlefields . During the construction of th\n",
            "e model battlefield, the Army brought in its Corps field bakers to feed those involved in painstakin\n",
            "gly rebuilding the war-zone . Staffordshire County Council, in a project funded by Natural England, \n",
            "is going to make a record of the model for future generations before re-covering the site on Cannock\n",
            " Chase in October. Councillor Philip Atkins, county council leader, said Staffordshire was proud of \n",
            "its military heritage as the home of the National Memorial Arboretum and now was the right time to c\n",
            "arry out the dig with the centenary of the war's outbreak falling next year. He said: 'We see oursel\n",
            "ves very much as custodians of the land and of the memories it holds, and this is a wonderful opport\n",
            "unity to bring the site back to life.' An Officers Clubhouse was even erected for the project at Bro\n",
            "cton Camp, Cannock Chase, as the reconstruction of the war-field began to take shape . The model was\n",
            " built by German prisoners of war, supervised by the New Zealanders, and then rendered in concrete. \n",
            "It includes small-scale reconstructions of Messines village's buildings, including its church, toget\n",
            "her with trench positions, railway lines, roads, and accurate contours of the surrounding terrain. M\n",
            "r Atkins said: 'The idea to build a scale model was a stroke of genius and undoubtedly played a huge\n",
            " role in preventing the deaths of thousands of more men. Then: Men were set to work digging trenches\n",
            " in the field designated as a model for the battle zone in Staffordhsire . Now: Archaeologists will \n",
            "have their work cut out for them to return the overgrown Cannock Chase area to its former replica mo\n",
            "del of the Messines terrain battlefield . 'Due to the location, scale and fragile nature of the mode\n",
            "l it is impossible for it to be moved or left uncovered, but for a brief moment in time we all be ab\n",
            "le to share with the nation, memories of a piece of Staffordshire which helped change the course of \n",
            "history.' Preparatory work on the site is starting today with the dig taking place next week. The Ba\n",
            "ttle of Messines took place on the Western Front in June 1917 in Belgium, around the village of Mese\n",
            "n . The . Battle of Messines was a major offensive conducted by the British . Second Army, under the\n",
            " command of General Herbert Plumer, on the Western . Front near the village of Messines, Belgium. Si\n",
            "x . army Corps were involved in the offensive - three carried out the . attack, two remained on the \n",
            "northern flank and one was available at . short notice if needed. The . offensive forced the German \n",
            "Army to move reserves to . Flanders from the Arras and Aisne fronts, which relieved pressure on the \n",
            ". French Army. Morale among French troops was low after the Neville offensive in the preceding month\n",
            "s failed to achieve its aims. The . tactical objective of the attack at Messines was to capture the \n",
            "German . defences along the length of the ridge, which ran from Ploegsteert Wood . in the south thro\n",
            "ugh Messines and Wytschaete to Mount Sorrel, to deprive . the German Fourth Army of the high ground \n",
            "south of Ypres. Troops from the British Second Army fought in the Battle of Messines, . which took p\n",
            "lace along a ridge running south from Ypres. Pictured, men . marching to trenches near Ypres in Octo\n",
            "ber 1914 . The . British defences were positioned behind the ridge and back areas . further north, f\n",
            "rom which the British intended to conduct the 'Northern . Operation' - to advance to Passchendaele R\n",
            "idge, then capture the Belgian . coast up to the Dutch frontie. They included numerous divisions fro\n",
            "m Australia and New Zealand. The . German Fourth Army divisions of Gruppe Wijtschate held the ridge;\n",
            " they . were later reinforced by a division from Gruppe Ypern. The battle began with the detonation \n",
            "of 19 mines, which devastated the German front line defences. The . forces then followed with a cree\n",
            "ping barrage, 700 yards (640m) deep, . which allowed the advancing British troops to secure the ridg\n",
            "e with . support from tanks, cavalry patrols and aircraft. British attacks from 8–14 June advanced t\n",
            "he new front line beyond the former German line. The . Battle of Messines is considered a prelude to\n",
            " the much larger Third . Battle of Ypres campaign, the preliminary bombardment for which began a . m\n",
            "onth later, on July 11 1917.\n",
            "\n",
            "Article length: 8737\n",
            "The world's fattest man has revealed he has not been able to leave his home for the past ten years. \n",
            "Keith Martin said he specifically remembers the last time he left the house was on 9/11. Since then \n",
            "he has ballooned to 58 stone and was recently revealed as the heaviest man on Earth. Mr Martin, 42, \n",
            "has said his condition has driven him to the brink of suicide and is now desperately trying to lost \n",
            "weight so reduce his 6ft waistline. Keith Martin, the fattest man on Earth, has revealed how he has \n",
            "not left his London home since 9/11 . Having once eaten up to 20,000 calories a day he has now restr\n",
            "icted himself to 1,500 calories. At the height of his eating Keith would scoff down a packet of baco\n",
            "n, six sausages, six eggs with a mound of toast and beans. Lunch was more of the same plus . sandwic\n",
            "hes and dinner could be two large pizzas, . three kebabs or a giant Chinese curry. Snacks included p\n",
            "ackets of biscuits . and sweets, cakes and family-size chocolate bars. Before bed he'd have . four s\n",
            "andwiches with ham, Spam or bacon. He drank two litres of cola, . plus six pints of coffee with suga\n",
            "r. Now he has reduced his diet to just four slices of bread, sometimes topped with spam or a can of \n",
            "mini-hotdogs, and one ready meal a day. Mr Martin as a healthy-looking young child . Mr Martin, who \n",
            "is 5ft 9in tall, has already lost 10cm of his girth. 'It's been a tough process, but I've been tryin\n",
            "g to stick to my new diet . regime. 'Finding out that I'm the fattest man in the world has been the \n",
            ". wake-up call I needed. I don't blame anyone other than myself for this . horrible situation. 'Doct\n",
            "ors have told me I won't reach . 50 unless I do something drastic. I need to lose half my weight bef\n",
            "ore . they'll give me a gastric band. 'I'd love to be as slim as I was in my . youth, but what I rea\n",
            "lly want is simply to sit comfortably in a . normal-sized chair. I am determined to get this weight \n",
            "off.' 'I used to eat four Big Macs plus fries and an apple turnover for lunch. Now, I can honestly s\n",
            "ay I don't even miss food. I have to do this for myself and my family.' Mr Martin revealed how he st\n",
            "arted cutting back in September when he became bed-bound by two giant hernias which are the size of \n",
            "four bowling balls. Then in January, Keith was visited by a team of healthcare professionals in his \n",
            "home who warned him: 'Take our advice or die.' 'I am trying to heed their advice, but nothing has hi\n",
            "t home like the headlines around the world talking about my weight,' he said. 'It has been horrible,\n",
            " but it's made me even more determined.' Mr Martin is a recluse who prefers to find solace in the la\n",
            "test Tom Clancy novel or watching his favourite science fiction films and playing video games on his\n",
            " PlayStation. The last time he left his house - other than four trips to the hospital - was on Septe\n",
            "mber 11, 2001, the day terror planes brought down America's World Trade Centre. 'I remember it so cl\n",
            "early because . everywhere people were reacting in horror to the attacks. But for me, . there was a \n",
            "good side to that day because it meant I would no longer . have to leave the house. 'The last thing \n",
            "I did was visit the Jobcentre. It had got to the point where I couldn't walk up the steps to sign on\n",
            ". 'Since then I've been on incapacity benefit, because I haven't been fit or well enough to work, ev\n",
            "en though I would love to.' Now . stuck in his reinforced bed, each day he is visited by seven carer\n",
            "s who . hand wash him and change his sheets. Doctors and nurses make home . visits to check on his h\n",
            "ealth. Each . fortnight he received £303 in benefits shares a three-bedroom terraced . council house\n",
            " in Harlesden, northwest London, with his two sisters. His . elder sister, a former shop clerk who h\n",
            "e refuses to name after hurtful . comments were posted about her on websites, is his best friend. Mr\n",
            " Martin's eating started to increase after his mother died and he took comfort in food . She also do\n",
            "es the food shopping and most of the cooking. But a tearful Keith lashed out at critics who have bla\n",
            "med her for his size. He said: 'I live with my two sisters - one of them has severe special needs. '\n",
            "The other is my 54-year-old sister who has done everything for me. 'She would plead with me to eat l\n",
            "ess, and even trick me into eating smaller portions. She convinced me to make healthier choices, lik\n",
            "e cooking burgers in the oven rather than frying them. 'But for a long time I could still walk to th\n",
            "e kitchen and feed myself. And it was difficult for her to say no to me - she loves me and didn't wa\n",
            "nt to say no when I told her I was hungry and wanted food. 'Whenever I say things like \"I'm a fat wa\n",
            "ste of space\" or \"I don't want to go on,\" she is there to tell me I'm not allowed to think that. She\n",
            "'s incredible and people have no right to judge. 'I should be taking care of my sisters, not the oth\n",
            "er way around.' The youngest son of eight average-sized kids raised by single mum Alma, Keith was a \n",
            "shy child who loved reading. He said: 'My mum was amazing - always . scrimping and saving to make en\n",
            "ds meet. We ate what we could afford - . Spam and mash, egg and chips, mincemeat stew. 'We . ate fru\n",
            "it and veg and my relationship with food was completely normal. At school I was bullied about having\n",
            " big ears. I didn't fit in and I . hated being there, which caused problems.' By the time he was 13,\n",
            " he was skiving so much authorities threatened to take him into care. Instead, . he was sent to a pr\n",
            "ivate school for troubled teens in Hampshire. But . then tragically, when he was 16, his mum died of\n",
            " double bronchial . pneumonia. 'It was a total surprise. She'd been in and out of hospital with diab\n",
            "etes and severe asthma, but we never expected it. 'I . felt so sad and guilty for the hassle I'd cau\n",
            "sed her. I started eating . to ease the pain and before I knew it, I was binging every time . someth\n",
            "ing upset me.' Mr Martin said he would spend an average of £30 a day on food and by the time he turn\n",
            "ed 25 'was a complete mess'. 'I . was getting bigger but didn't notice until I could no longer fit i\n",
            "nto . the extra large joggers and T-shirts on the high street. Mr Martin with a selection of some of\n",
            " the foods he used to consume in a day but he is now determined to lose the weight . Behind closed d\n",
            "oors, Mr Martin continued to gain weight. By the time he was 32 he was a supersize 5XL and had to bu\n",
            "y his clothes from specialist shops online. In 2008, he had to swap his bedroom for a double mattres\n",
            "s on the living room floor because he could no longer climb the stairs. By the end of 2010, he had o\n",
            "utgrown the 8XL clothing - the largest possible size - and had to lie naked under a sheet. In Septem\n",
            "ber 2009 the emergency services were called when he was unable to move and he tipped the scales at a\n",
            " whopping 50 stone. It was also the first time he'd seen a doctor in his adult life. He said: 'I cou\n",
            "ldn't believe what they said - I thought maybe I weighed half that. And I've continued to gain since\n",
            ". 'I didn't think there was anything I could do. My self esteem was so low - it always has been that\n",
            " I just didn't care about myself. 'I've been to the hospital four times after falling over or becaus\n",
            "e I was having stomach pain or couldn't move. Every time it's the same thing - you need to lose the \n",
            "weight, which I know is right. 'I've got an irregular heart beat, severe asthma, horrible migraines \n",
            "and constant aches and pains. 'The last time I was able to sit in a chair was seven years ago - and \n",
            "that was a two-seater. I used to have to board buses from the back door because I couldn't fit throu\n",
            "gh the bars at the front. 'People in the street would call me \"lardy\" and \"fatso\". They would stare \n",
            "without even trying to hide it. 'It got to the point where I couldn't . take it anymore. The last ti\n",
            "me I stood was last September when I fell . over and had to be taken to the hospital again. But befo\n",
            "re that I was . getting around the house on my own at least.' Mr Martin now spends all his time in h\n",
            "is reinforced bed, held in by protective barriers. Last year he splashed out on a 42in flatscreen TV\n",
            " because 'that is what I spend all day looking at.' He said: 'I spend a lot of time sleeping because\n",
            " I have so little energy. 'Looking . back at my life, I've always been depressed. I am an agoraphobi\n",
            "c - I'm . afraid of public places - and I guess maybe I always have been, but it . was never treated\n",
            ". 'In . a way I don't feel any different to when I was in my teens. I'm the . same person, only now \n",
            "I've got this giant body that hurts all the time. 'I . just want to be happy, without needing food t\n",
            "o make me happy. I want to . be able to take my border collie Cheyanne for a walk - I'd take her . w\n",
            "herever she wanted to go.' Mr Martin gets emotional talking about his weight and said he only has hi\n",
            "mself to blame for his massive size .\n",
            "\n",
            "Article length: 5643\n",
            "By . Daniel Miller . PUBLISHED: . 11:09 EST, 14 August 2012 . | . UPDATED: . 04:24 EST, 15 August 20\n",
            "12 . Two people have been killed and at least seven others remain missing after three Ugandan helico\n",
            "pter gunships crashed into Kenya's highest mountain in bad weather. The Russian-built Mi-24 'Hind' h\n",
            "elicopters were travelling to Somalia to help fight al-Qaida-linked . militants when they crashed on\n",
            " Sunday. Rescue workers today recovered two dead bodies and continue to search for at least seven so\n",
            "ldiers and airmen around the crash sites in the rugged landscape of Mount Kenya. Scroll down for vid\n",
            "eo . Survivor: Lt. Col. Chris Kasiji, a senior Ugandan air force pilot lies next to the wreckage of \n",
            "his helicopter which crashed into Kenya's highest mountain on Sunday . Simon Gitau, deputy warden of\n",
            " Mt. Kenya National Park, said rescue workers saw two bodies outside of one . helicopter that crashe\n",
            "d and burned. He said he did not know if other . bodies were inside the wreckage. 'We did not search\n",
            " through the wreckage because it was still burning and smoldering,' Gitau said. Five personnel were \n",
            "rescued from a second crash site discovered on Tuesday, Gitau said. A third Ugandan military helicop\n",
            "ter . that crashed was found on Monday and the occupants rescued. No one was . killed in that crash \n",
            "that wrecked the aircraft beyond repair and only . one injury was reported. Wreckage: Three heavily \n",
            "armed Russian-built MI-24 'Hind' gunships crashed in rugged terrain on Sunday . A total of four Ugan\n",
            "dan military helicopters were en route to Somalia to fight al-Qaida-linked militants . Search-and-re\n",
            "scue teams reached . one of the crash sites Tuesday at around 12,000 feet up Mount Kenya, . said Bri\n",
            "gadier Francis Ogolla, the commander of Kenya's Laikipia Air . Base near Mount Kenya. He told a pres\n",
            "s conference that the other . helicopter was spotted from the air at the edge of a cliff. Ogolla sai\n",
            "d the helicopters had taken . off in formation from Laikipia Air Base at around 4:50 p.m. on Sunday \n",
            ". en route to the northern Kenya town of Garissa, where the helicopters . were to refuel before proc\n",
            "eeding to Somalia. One hour later only one . helicopter landed in Garissa and the pilot said he had \n",
            "lost . communication with the other three, Ogolla said. Weather around Mount Kenya- Africa's . secon\n",
            "d tallest peak at 5,199 meters (17,057 feet) - can be erratic. Heavy clouds and wind would be common\n",
            " this time of year, with . precipitation coming in the form of rain or snow. The three helicopters t\n",
            "hat crashed were Mi-24 gunships. The fourth helicopter that landed safely was an Mi-17. Ugandan . Pr\n",
            "esident Yoweri Museveni ordered an investigation to be led by his . brother - a retired army general\n",
            " - in a sign of how serious Ugandan . authorities are taking the loss of lives. Neither . Kenyan nor\n",
            " Ugandan authorities could yet say why three of four military . helicopters making the trip crashed.\n",
            " Ugandan officials said preliminary . information indicated that bad weather was responsible. Mount \n",
            ". Kenya - Africa's second-highest peak - has been shrouded in clouds even . as rescuers tried to loc\n",
            "ate the wreckage from Sunday's crashes. One . point to be investigated will be whether the pilots to\n",
            "ok the wrong . flight path. Concerns were raised in Uganda that the well-trained crew . flew too clo\n",
            "se to Mount Kenya. A Ugandan official insisted that there . was nothing wrong with the helicopters. \n",
            "Rescue workers tend to a survivor at one of the crash sites approximately 12,000 feet up Mount Kenya\n",
            " . Bad weather was reported around Mount Kenya- Africa's second tallest peak - at the time of the cr\n",
            "ash . The three helicopters that crashed were Russian made Mi-24 gunships. A fourth helicopter that \n",
            "landed safely was an Mi-17 transporter . 'They were inspected... and found to be airworthy,' Jeje Od\n",
            "ongo, Uganda's deputy minister of defense, said of the Russian Mi-24 helicopters. Odongo said that a\n",
            "ll the crew had been trained by the U.N. and that 'they all passed the competence tests' before flyi\n",
            "ng out of Uganda. Odongo said the trip to Somalia had been planned three months in advance and that \n",
            "the aircraft have been used over the years for missions, including the hunt for the notorious rebel \n",
            "leader Joseph Kony, the leader of the Lord's Resistance Army. Kenyan wildlife rangers and army soldi\n",
            "ers carry a dead body from one of the crash sites . A Ugandan government spokesman said the trip to \n",
            "Somalia had been planned three months in advance. He insisted the helicopters were in good condition\n",
            " and had recently passed safety tests . The unexplained crashes will set back efforts by a multinati\n",
            "onal African force to battle Islamist militant group, al-Shabab, which is linked to al-Qaida. The U.\n",
            "N. Security Council in February approved funds for nine transport helicopters and three attack helic\n",
            "opters to be used by African Union forces in Somalia. The AU troops have been fighting al-Shabab for\n",
            " years without the use of helicopters. The Ugandan military forms the bulk of the African Union forc\n",
            "es in Somalia. Ugandan and Burundian forces pushed al-Shabab out of Mogadishu about a year ago. Heli\n",
            "copters will further aid their counterinsurgency efforts. Kenya and Burundi have also dispatched to \n",
            "troops to fight al-Shabab, which neighboring countries view as a regional threat. The Islamist milit\n",
            "ants are now concentrated in the southern coast town of Kismayo, which is likely to be the next scen\n",
            "e of serious fighting. Somalia has not had a stable government since 1991, when longtime dictator Si\n",
            "ad Barre was ousted by warlords who then turned on each other. VIDEO: Kenyan Brigadier Francis Ogola\n",
            " talks about the situation on the ground...\n",
            "\n",
            "Article length: 4468\n",
            "By . Daily Mail Reporter . PUBLISHED: . 14:14 EST, 24 April 2013 . | . UPDATED: . 01:47 EST, 25 Apri\n",
            "l 2013 . Masterchef bosses have been criticised by viewers for allowing contestants to get away with\n",
            " 'stomach-turning' hygiene standards on the show. Viewers of the hit BBC1 programme, hosted by judge\n",
            "s John Torode and Gregg Wallace, say they have been turned off the cookery contest by the contestant\n",
            "s' kitchen habits. In one episode, viewers watched as a contestant's sweat dripped into a sauce, whi\n",
            "le in another a female chef's long hair was seen dangling over her lamb tagine. Masterchef bosses ha\n",
            "ve been criticised after viewers complained about a contestant's sweat dripping into a sauce. Elsewh\n",
            "ere, a female chef's long hair was seen dangling over her lamb tagine . Masterchef judge John Torode\n",
            " speaks to the contestants during one of the episodes . Other turn-offs included contestants wearing\n",
            " jewellery and nail varnish in the kitchen and cross-contamination of food. Viewers have posted on a\n",
            " BBC message board complaning about the standards of hygiene. One poster on the BBC Points of View o\n",
            "nline messageboard wrote: 'When you are cooking food for other people I think that hygiene standards\n",
            " need to be some what higher! 'Rings and nail varnish on fingers and greasy hair falling into food i\n",
            "s not really nice and I often wonder how Gregg and John can so happily tuck into it when they must s\n",
            "urely have seen how the food is prepared. It puts me off yuuk!' Another viewer wrote: 'Does the prod\n",
            "uction team know anything about food hygiene? John Torode certainly does that's for sure but the con\n",
            "testants certainly don't! 'I just watched the episode aired on the 17th (April) and I am concerned a\n",
            "bout the mass catering challenge. One viewer asked how Masterchef judges Gregg Wallace (left) and Jo\n",
            "hn Torode (right) were able to 'tuck into' the food when they had seen how it had been prepared . 'O\n",
            "ne of the contestant's hair was almost being stirred into her lamb dish whilst the other contestants\n",
            " were using the first chopping boards they came to........ Red for vegetables.....Yellow boards for \n",
            "fruit? 'Picky picky but I teach this for a living and I teach about cross contamination which includ\n",
            "es colour coded chopping boards. 'Does the BBC care what it's teaching the public or are they only c\n",
            "oncerned with recipes.' Another viewer responded: 'I'm with you! One episode saw someone drip sweat \n",
            "into a sauce, barf! 'Also the wearing of rings and/or nail varnish also turns my stomach. When I was\n",
            " a gel strictly hair tied back, no jewellery and if we had nail varnish on, off to the science lab t\n",
            "o get it taken off with acetone.' Viewers said they were disgusted by an episode in which the cooks \n",
            "were sent to Heathrow Airport to prepare lunch for 200 employees. During the challenge 27-year-old c\n",
            "ontestant Shivi Ramatour's long hair was seen spilling out of her chef's hat as she stirred her lamb\n",
            " tagine. Dozens of viewers took to Twitter to point out the incident. One viewer tweeted: 'Why are n\n",
            "one of these chefs in #masterchef wearing hairnets in the professional kitchen? I hope the customers\n",
            " like beef a la hair.' Another tweeted: 'Erm, will the posh hot girl on #masterchef please stop flic\n",
            "king her hair into the food!!' The contestants' failure to use the correct chopping boards during th\n",
            "is episode was also a hot topic on Twitter. One viewer tweeted: 'Does #masterchef not know the envir\n",
            "onmental health laws? Hair must be totally covered in the kitchen, the boards have colours for a rea\n",
            "son. #Appalling hygiene examples peppers on a red board is a no-no also two young ladies whose hair \n",
            "hanging over the food. Bad bad bad.' Viewers of the show have raised concerns over issues including \n",
            "cross-contamination and the failure of bosses to provide chef whites for the contestants during the \n",
            "studio-based challenges . Meanwhile, other frustrated viewers criticised the show's bosses for faili\n",
            "ng to provide chef whites for the contestants during studio-based challenges. One viewer tweeted: 'P\n",
            "eople cooking in chunky hooded tops doesn't inspire hygiene confidence #masterchef' A MasterChef spo\n",
            "keswoman said: 'When filming in professional kitchens we always follow the guidelines required by th\n",
            "e restaurant in question. 'Any contestant with long hair will be asked to tie it back or wear a hat \n",
            "because they are cooking for the general public. 'We do not insist on using hats and hair nets in th\n",
            "e studio kitchens but hygiene remains an issue of great importance.'\n",
            "\n",
            "Article length: 4916\n",
            "America's most lethal sniper claimed he wished he'd 'killed more' Iraqis despite accumulating 160 co\n",
            "nfirmed kills - with the true number estimated to be as high as 255. Speaking just months before his\n",
            " untimely death, Chris Kyle insisted his only regret was that US lives were lost because he shot too\n",
            " few of the enemy. The late veteran's wartime exploits are portrayed in the divisive Oscar-tipped mo\n",
            "vie American Sniper, starring Bradley Cooper and directed by Clint Eastwood. Little regrets: In an i\n",
            "nterview three years ago America's most lethal sniper Chris Kyle claimed he wished he'd 'killed more\n",
            "' Iraqis . Speaking to Toby Harnden of The Sunday Times three years ago, Kyle was asked whether he r\n",
            "egretted any of his kills while on tour. Replying in his characteristically soft Texan drawl, the fo\n",
            "rmer sniper, said: 'No, sir, not at all. 'To be honest with you, I wish I'd killed more because ever\n",
            "y kill saved American lives and that was what I was out there for.' Kyle was thrilled by the success\n",
            " of his autobiographical book, which led to 'huge fascination' with the grisly art of snipers. The s\n",
            "oldier, played by Bradley Cooper in Oscar-tipped film American Sniper (L), accumulated 160 confirmed\n",
            " kills in Iraq, with the true number estimated to be as high as 255 . In the 2012 interview, he adde\n",
            "d: 'It's been a taboo for too long, I'm glad that people are actually looking at it with an interest\n",
            " and saying these guys are actually something we need.' Less than a year after the conversation, Kyl\n",
            "e was killed on a remote shooting range in Texas by a disturbed veteran he was helping, who was said\n",
            " to have been suffering from post-traumatic stress disorder (PTSD). Opinion: Seth Rogen caused a Twi\n",
            "tter storm with a tweet about American Sniper . The movie based on Kyle's book, produced by and star\n",
            "ring Bradley Cooper, has been a box office hit, but has also divided opinion, with some criticising \n",
            "the film's jingoistic stance. Filmmaker Michael Moore caused an online debate when he tweeted about \n",
            "how he was raised to believe snipers were 'cowards' since his uncle died by a Japanese sniper shot i\n",
            "n World War II. Taking to Twitter in rage, the Fahrenheit 9/11 director seethed: 'My uncle killed by\n",
            " sniper in WW2. We were taught snipers were cowards. Will shoot u in the back. Snipers aren't heroes\n",
            ". And invaders r worse.' Seth Rogen also caused controversy after tweeting: 'American Sniper kind of\n",
            " reminds me of the movie that's showing in the third act of Inglorious Basterds.' The comedy actor f\n",
            "aced a storm of online abuse for his comment and recently issued a clarification and apology. He wro\n",
            "te: ‘It appears I need to further clarify a tweet I sent a few days ago. 'I said a sniper movie kind\n",
            " of reminded me of a scene in another movie that involved a sniper movie. 'I didn't compare the two \n",
            "at all. I merely said that one kind of reminded me of the other, because they both involved plots ab\n",
            "out the most lethal of snipers. ‘People then claimed that I compared the movie American Sniper to Na\n",
            "zi propaganda, something I would never do. 'I'm sorry if this somehow offended anyone, but that was \n",
            "not my intention. I hope this clears things up.’ Critics of the movie included talk show host Bill M\n",
            "aher, who claimed the film is only cleaning up at the box office because audiences lap up its 'psych\n",
            "opath' hero. Controversy: Rogen said American Sniper (still on the right) reminded him of Nation's P\n",
            "ride (still on the left), a fake Nazi propaganda film from Quentin Tarantino's World War II film Ing\n",
            "lorious Basterds . Speaking on his HBO show Real Time with Bill Maher, he drew on excerpts from the \n",
            "autobiography Kyle wrote before he was killed in February 2013, in which he said he enjoyed war and \n",
            "referred to his targets as 'savages'. Kid Rock was one of the first stars to wade in on the debate s\n",
            "tirred up by Rogen and Moore, tweeting: ‘: 'F— you Michael Moore, you’re a piece of s— and your uncl\n",
            "e would be ashamed of you. Seth Rogen, your uncle probably molested you. I hope both of you catch a \n",
            "fist to the face soon. 'God bless you Chris Kyle, Thank you for your service.' 'Psychopath patriot -\n",
            " and we love him': Talk show host Bill Maher was uncompromising in his criticism of Kyle - and seize\n",
            "d . Oscar-tipped: Clint Eastwood's (left) movie is hotly-tipped to pick up a few Oscars, including B\n",
            "est Actor for Cooper (right) He chose parts of the book, also called American Sniper, where Kyle sai\n",
            "d 'I love killing bad guys - even with the pain I loved what I was doing.' The film, directed by Cli\n",
            "nt Eastwood, was then compared with Hurt Locker, another film centered on the Iraq war which made fa\n",
            "r less money, though won widespread praise. Maher said: 'Hurt Locker' made $17million because it was\n",
            " a little ambiguous and thoughtful... [American Sniper] is just \"American hero! He's a psychopath pa\n",
            "triot, and we love him.\"' American Sniper has earned six Oscar nominations, including Best Actor for\n",
            " Bradley Cooper.\n",
            "\n"
          ]
        }
      ]
    },
    {
      "cell_type": "markdown",
      "source": [
        "As seen above, some of the chosen samples are short, ~1,200 chars, and some of them more than ~8,000 chars, and there are some which have more than 10,000 chars!"
      ],
      "metadata": {
        "id": "uEPEzN4cbRoh"
      }
    },
    {
      "cell_type": "code",
      "source": [
        "def print_selected_articles_prefix_suffix(df, num_samples=12, only_prefix=False):\n",
        "  nrows = df.shape[0]\n",
        "  jump = math.floor(nrows / num_samples)\n",
        "  selected_articles = [i for i in range(0, nrows, jump)]\n",
        "  filtered_df = df.iloc[selected_articles]\n",
        "\n",
        "  preffix_list = []\n",
        "  suffix_list = []\n",
        "  for _, values in filtered_df[['article']].iterrows():\n",
        "    cur_article = values['article']\n",
        "    preffix_list.append(cur_article[:120])\n",
        "    suffix_list.append(cur_article[-120:])\n",
        "  \n",
        "  print(\"Preffix:\")\n",
        "  for pre in preffix_list:\n",
        "    print(f\"{pre}\")\n",
        "\n",
        "  if not only_prefix:\n",
        "    print(\"\\nSuffix:\")\n",
        "    for suf in suffix_list:\n",
        "      print(f\"{suf}\")"
      ],
      "metadata": {
        "id": "K6tGFs4B6pX1"
      },
      "execution_count": null,
      "outputs": []
    },
    {
      "cell_type": "code",
      "source": [
        "print_selected_articles_prefix_suffix(train_df, num_samples=10)"
      ],
      "metadata": {
        "id": "JRiozI6G6-gP",
        "colab": {
          "base_uri": "https://localhost:8080/"
        },
        "outputId": "17097fa5-bd2f-461e-dc8c-eabf3945cbbf"
      },
      "execution_count": null,
      "outputs": [
        {
          "output_type": "stream",
          "name": "stdout",
          "text": [
            "Preffix:\n",
            "By . Associated Press . PUBLISHED: . 14:11 EST, 25 October 2013 . | . UPDATED: . 15:36 EST, 25 October 2013 . The bishop\n",
            "Alex Oxlade-Chamberlain forgot about England's team huddle moments before kick-off as Roy Hodgson's side beat Scotland 3\n",
            "By . Associated Press and Anthony Bond . PUBLISHED: . 22:08 EST, 1 August 2013 . | . UPDATED: . 07:47 EST, 2 August 2013\n",
            "Mogadishu, Somalia (CNN) -- Somalia's top militant group may soon counter the government's recent thrust against them wi\n",
            "(CNN) -- Brad Pitt has a warning for his accused attacker, Vitalii Sediuk: \"If he tries to look up a woman's dress again\n",
            "Created: . 23:04 EST, 26 February 2015 . This is the moment a benefits cheat was caught on camera lugging around wood wh\n",
            "By . Helen Collis . PUBLISHED: . 07:16 EST, 2 September 2013 . | . UPDATED: . 11:53 EST, 2 September 2013 . It was a per\n",
            "The world's fattest man has revealed he has not been able to leave his home for the past ten years. Keith Martin said he\n",
            "By . Daniel Miller . PUBLISHED: . 11:09 EST, 14 August 2012 . | . UPDATED: . 04:24 EST, 15 August 2012 . Two people have\n",
            "By . Daily Mail Reporter . PUBLISHED: . 14:14 EST, 24 April 2013 . | . UPDATED: . 01:47 EST, 25 April 2013 . Masterchef \n",
            "America's most lethal sniper claimed he wished he'd 'killed more' Iraqis despite accumulating 160 confirmed kills - with\n",
            "\n",
            "Suffix:\n",
            "ite, nausea and abdominal discomfort. Fargo Catholic Diocese in North Dakota (pictured) is where the bishop is located .\n",
            " performance as he gave England a first-half lead with a glancing header and set the Three Lions on the road to victory.\n",
            "e building was cited for a construction violation on June 27, . according to the Department of Buildings online records.\n",
            "al pledging conference August 9 in Ethiopia. The African Union has already donated $500,000 of assistance in the famine.\n",
            "roach a crowd.\" Grammys stage-crasher reveals his entry plan . Will Smith on the red carpet slap heard 'round the world'\n",
            "tify the department. It may well be if you had been honest then you would have received benefits of some sort or other.'\n",
            "h larger Third . Battle of Ypres campaign, the preliminary bombardment for which began a . month later, on July 11 1917.\n",
            "d to go.' Mr Martin gets emotional talking about his weight and said he only has himself to blame for his massive size .\n",
            "warlords who then turned on each other. VIDEO: Kenyan Brigadier Francis Ogola talks about the situation on the ground...\n",
            " 'We do not insist on using hats and hair nets in the studio kitchens but hygiene remains an issue of great importance.'\n",
            "h patriot, and we love him.\"' American Sniper has earned six Oscar nominations, including Best Actor for Bradley Cooper.\n"
          ]
        }
      ]
    },
    {
      "cell_type": "markdown",
      "source": [
        "As we notify, the most problematic part in text is thier prefix. We created a method which should deal with most of the problematic prefixes. <br>\n",
        "NOTE: we didn't had the chance to look at all the data, because of its humangous size. But we took 200 smaples from different locations in data, which some prefixes were repeated on themselves. "
      ],
      "metadata": {
        "id": "dxzJpHY06UjI"
      }
    },
    {
      "cell_type": "code",
      "source": [
        "def clean_CNN_from_prefix(txt):\n",
        "  return txt[5:] if txt[:5] == '(CNN)' else txt\n",
        "\n",
        "def regex_clean(df):\n",
        "  reg_words = '[\\w\\\\+|\\s]*'\n",
        "  date = f'[0-9]+\\:[0-9]+\\s+{reg_words},\\s+[0-9]+{reg_words}\\s+[0-9]+'\n",
        "  spacer = '\\s\\.\\s'\n",
        "\n",
        "  # Example: 'By . Associated Press . PUBLISHED: . 14:11 EST, 25 October 2013 . | . UPDATED: . 15:36 EST, 25 October 2013 . '\n",
        "  # 'PUBLISHED: . 10:10 EST, 30 June 2013 . | . UPDATED: . 02:30 EST, 1 July 2013 . '\n",
        "  regex_1 = f'PUBLISHED:{spacer}{date}{spacer}\\|{spacer}UPDATED:{spacer}{date}{spacer}'\n",
        "  # UPDATED: . 03:12 EST, 8 February 2012 . \n",
        "  regex_2 = f'UPDATED:{spacer}{date}{spacer}'\n",
        "  # Example: 'By . Eleanor Crooks, Press Association . '\n",
        "  regex_3 = f'By{spacer}{reg_words},\\sPress Association\\s\\.\\s'\n",
        "  # Example: 'By . Daily Mail Reporter . '\n",
        "  regex_4 = f'By{spacer}{reg_words}\\.\\s'\n",
        "  # Example: 'By SAM TAYLOR FOR THE DAILY MAIL . '\n",
        "  regex_5 = f'By[\\s\\w\\\\+]+{spacer}'\n",
        "  # Example: 'Canberra, Australia (CNN) -- ', 'London (CNN)  -- ', 'WASHINGTON (CNN)  -- ', '(CNN)  -- ', \n",
        "  regex_6 = f'[A-Z][a-z]+,\\s[A-Z][a-z]+\\s+\\(CNN\\)\\s+--\\s'\n",
        "  regex_7 = f'[A-Z]+[a-z]*\\s+\\(CNN\\)\\s+--\\s'\n",
        "  regex_8 = f'\\(CNN\\)\\s+--\\s'\n",
        "  # Example: '(CNN) -- '\n",
        "  regex_9 = f'\\([\\w\\\\+|\\.|\\s]*\\)\\s--\\s'\n",
        "  # The rest: 'and Michael Zennie . ', 'and Reuters .'\n",
        "  regex_10 = f'and[\\s[A-Za-z]+]*\\s.\\s'\n",
        "\n",
        "  print(f\"start copy df\")\n",
        "  df_filttered = df.copy()\n",
        "\n",
        "  reg_dict = {'reg_1' : regex_1,\n",
        "              'reg_2' : regex_2,\n",
        "              'reg_3' : regex_3,\n",
        "              'reg_4' : regex_4,\n",
        "              'reg_5' : regex_5,\n",
        "              'reg_6' : regex_6,\n",
        "              'reg_7' : regex_7,\n",
        "              'reg_8' : regex_8,\n",
        "              'reg_9' : regex_9,\n",
        "              'reg_10' : regex_10}\n",
        "\n",
        "  for i in range (1, len(reg_dict)+1):\n",
        "    reg_name = f'reg_{i}'\n",
        "    print(f'start working on {reg_name}')\n",
        "    cur_reg = reg_dict[reg_name]\n",
        "    df_filttered['article'] = df_filttered['article'].str.replace(f'({cur_reg})', '', regex=True)\n",
        "\n",
        "  # clean '\\n'\n",
        "  df_filttered['article'] = df_filttered['article'].str.replace(f'(\\n)', ' ', regex=True)\n",
        "\n",
        "  # clean (CNN) in the beginning\n",
        "  print('Start \\'(CNN)\\' clean')\n",
        "  df_filttered['article'] = df_filttered.apply(lambda x: clean_CNN_from_prefix(x['article']),axis=1)\n",
        "\n",
        "  # clean the highlights\n",
        "  df_filttered['highlights'] = df_filttered['highlights'].str.replace(f'(\\n)', ' ', regex=True)\n",
        "\n",
        "  return df_filttered\n",
        "  "
      ],
      "metadata": {
        "id": "bjyQ9ZLoDzah"
      },
      "execution_count": null,
      "outputs": []
    },
    {
      "cell_type": "markdown",
      "source": [
        "For testing regex correctness:"
      ],
      "metadata": {
        "id": "dAquQRiu5atA"
      }
    },
    {
      "cell_type": "code",
      "source": [
        "# print_selected_articles_preffix_suffix(train_df, num_samples=50)"
      ],
      "metadata": {
        "id": "gzEhZQIPTj3c"
      },
      "execution_count": null,
      "outputs": []
    },
    {
      "cell_type": "code",
      "source": [
        "clean_train_df = train_df.copy()"
      ],
      "metadata": {
        "id": "DXkO3C8ZQfuo"
      },
      "execution_count": null,
      "outputs": []
    },
    {
      "cell_type": "code",
      "source": [
        "# train_df_filttered['article'] = train_df_filttered['article'].str.replace(f'({regex_1})', '', regex=True)"
      ],
      "metadata": {
        "id": "t3EpiOjXYnlZ"
      },
      "execution_count": null,
      "outputs": []
    },
    {
      "cell_type": "code",
      "source": [
        "# print_selected_articles_preffix_suffix(train_df_filttered, num_samples=200, only_prefix=True)"
      ],
      "metadata": {
        "id": "ZqNCQ--jQ86y"
      },
      "execution_count": null,
      "outputs": []
    },
    {
      "cell_type": "markdown",
      "source": [
        "Start clean train data by regex"
      ],
      "metadata": {
        "id": "aq9hbzDCqGiZ"
      }
    },
    {
      "cell_type": "code",
      "source": [
        "# clean_train_df = regex_clean(clean_train_df)"
      ],
      "metadata": {
        "id": "yWk8n4ei8ky3"
      },
      "execution_count": null,
      "outputs": []
    },
    {
      "cell_type": "code",
      "source": [
        "# train_df['article'][0]"
      ],
      "metadata": {
        "id": "KzXmDZ6WcYco"
      },
      "execution_count": null,
      "outputs": []
    },
    {
      "cell_type": "code",
      "source": [
        "# clean_train_df['article'][0]"
      ],
      "metadata": {
        "id": "W7KAF4jcc4TD"
      },
      "execution_count": null,
      "outputs": []
    },
    {
      "cell_type": "code",
      "source": [
        "def write_clean_data(df, type):\n",
        "  if 'id' in df.columns:\n",
        "    df.drop('id', axis=1, inplace=True)\n",
        "  df.to_csv(f'{kaggle_dir}/clean_data/{type}.csv' , index=False)"
      ],
      "metadata": {
        "id": "D5BIEJQ1SrAG"
      },
      "execution_count": null,
      "outputs": []
    },
    {
      "cell_type": "code",
      "source": [
        "# write_clean_data(clean_train_df, 'train')"
      ],
      "metadata": {
        "id": "sB3Eb8YpVGAn"
      },
      "execution_count": null,
      "outputs": []
    },
    {
      "cell_type": "markdown",
      "source": [
        "Same clean we do for validation and test sets:"
      ],
      "metadata": {
        "id": "Gc634r3uVZrq"
      }
    },
    {
      "cell_type": "code",
      "source": [
        "val_df = read_orig_data('validation')\n",
        "test_df = read_orig_data('test')"
      ],
      "metadata": {
        "id": "lD4D6OEbVh5C"
      },
      "execution_count": null,
      "outputs": []
    },
    {
      "cell_type": "code",
      "source": [
        "# clean_val_df = regex_clean(val_df)\n",
        "# clean_test_df = regex_clean(test_df)"
      ],
      "metadata": {
        "id": "MYUWI-fkVfHl"
      },
      "execution_count": null,
      "outputs": []
    },
    {
      "cell_type": "code",
      "source": [
        "# write_clean_data(clean_val_df, 'validation')\n",
        "# write_clean_data(clean_test_df, 'test')"
      ],
      "metadata": {
        "id": "2oSMdd24V3N0"
      },
      "execution_count": null,
      "outputs": []
    },
    {
      "cell_type": "markdown",
      "source": [
        "# Validation-data Analysis"
      ],
      "metadata": {
        "id": "TcGQoBbHSy2R"
      }
    },
    {
      "cell_type": "code",
      "source": [
        "clean_train_df = pd.read_csv(f'{kaggle_dir}/clean_data/train.csv')"
      ],
      "metadata": {
        "id": "TTt2WA8X1aJf"
      },
      "execution_count": null,
      "outputs": []
    },
    {
      "cell_type": "code",
      "source": [
        "clean_test_df = pd.read_csv(f'{kaggle_dir}/clean_data/test.csv')"
      ],
      "metadata": {
        "id": "xfwCLnu-ReGi"
      },
      "execution_count": null,
      "outputs": []
    },
    {
      "cell_type": "code",
      "source": [
        "clean_val_df = pd.read_csv(f'{kaggle_dir}/clean_data/validation.csv')"
      ],
      "metadata": {
        "id": "m-9Iit7iNT_8"
      },
      "execution_count": null,
      "outputs": []
    },
    {
      "cell_type": "code",
      "source": [
        "clean_val_df.head()"
      ],
      "metadata": {
        "id": "7b-O9wspNdXJ",
        "colab": {
          "base_uri": "https://localhost:8080/",
          "height": 206
        },
        "outputId": "9da2b625-1917-4e23-888c-d60b7602190f"
      },
      "execution_count": null,
      "outputs": [
        {
          "output_type": "execute_result",
          "data": {
            "text/plain": [
              "                                             article  \\\n",
              "0  Sally Forrest, an actress-dancer who graced th...   \n",
              "1  A middle-school teacher in China has inked hun...   \n",
              "2  A man convicted of killing the father fiery at...   \n",
              "3  Avid rugby fan Prince Harry could barely watch...   \n",
              "4  A Triple M Radio producer has been inundated w...   \n",
              "\n",
              "                                          highlights  \n",
              "0  Sally Forrest, an actress-dancer who graced th...  \n",
              "1  Works include pictures of Presidential Palace ...  \n",
              "2  Iftekhar Murtaza, 29, was convicted a year ago...  \n",
              "3  Prince Harry in attendance for England's crunc...  \n",
              "4  Nick Slater's colleagues uploaded a picture to...  "
            ],
            "text/html": [
              "\n",
              "  <div id=\"df-5e1be470-814c-4b31-9d27-b6eb06388fb6\">\n",
              "    <div class=\"colab-df-container\">\n",
              "      <div>\n",
              "<style scoped>\n",
              "    .dataframe tbody tr th:only-of-type {\n",
              "        vertical-align: middle;\n",
              "    }\n",
              "\n",
              "    .dataframe tbody tr th {\n",
              "        vertical-align: top;\n",
              "    }\n",
              "\n",
              "    .dataframe thead th {\n",
              "        text-align: right;\n",
              "    }\n",
              "</style>\n",
              "<table border=\"1\" class=\"dataframe\">\n",
              "  <thead>\n",
              "    <tr style=\"text-align: right;\">\n",
              "      <th></th>\n",
              "      <th>article</th>\n",
              "      <th>highlights</th>\n",
              "    </tr>\n",
              "  </thead>\n",
              "  <tbody>\n",
              "    <tr>\n",
              "      <th>0</th>\n",
              "      <td>Sally Forrest, an actress-dancer who graced th...</td>\n",
              "      <td>Sally Forrest, an actress-dancer who graced th...</td>\n",
              "    </tr>\n",
              "    <tr>\n",
              "      <th>1</th>\n",
              "      <td>A middle-school teacher in China has inked hun...</td>\n",
              "      <td>Works include pictures of Presidential Palace ...</td>\n",
              "    </tr>\n",
              "    <tr>\n",
              "      <th>2</th>\n",
              "      <td>A man convicted of killing the father fiery at...</td>\n",
              "      <td>Iftekhar Murtaza, 29, was convicted a year ago...</td>\n",
              "    </tr>\n",
              "    <tr>\n",
              "      <th>3</th>\n",
              "      <td>Avid rugby fan Prince Harry could barely watch...</td>\n",
              "      <td>Prince Harry in attendance for England's crunc...</td>\n",
              "    </tr>\n",
              "    <tr>\n",
              "      <th>4</th>\n",
              "      <td>A Triple M Radio producer has been inundated w...</td>\n",
              "      <td>Nick Slater's colleagues uploaded a picture to...</td>\n",
              "    </tr>\n",
              "  </tbody>\n",
              "</table>\n",
              "</div>\n",
              "      <button class=\"colab-df-convert\" onclick=\"convertToInteractive('df-5e1be470-814c-4b31-9d27-b6eb06388fb6')\"\n",
              "              title=\"Convert this dataframe to an interactive table.\"\n",
              "              style=\"display:none;\">\n",
              "        \n",
              "  <svg xmlns=\"http://www.w3.org/2000/svg\" height=\"24px\"viewBox=\"0 0 24 24\"\n",
              "       width=\"24px\">\n",
              "    <path d=\"M0 0h24v24H0V0z\" fill=\"none\"/>\n",
              "    <path d=\"M18.56 5.44l.94 2.06.94-2.06 2.06-.94-2.06-.94-.94-2.06-.94 2.06-2.06.94zm-11 1L8.5 8.5l.94-2.06 2.06-.94-2.06-.94L8.5 2.5l-.94 2.06-2.06.94zm10 10l.94 2.06.94-2.06 2.06-.94-2.06-.94-.94-2.06-.94 2.06-2.06.94z\"/><path d=\"M17.41 7.96l-1.37-1.37c-.4-.4-.92-.59-1.43-.59-.52 0-1.04.2-1.43.59L10.3 9.45l-7.72 7.72c-.78.78-.78 2.05 0 2.83L4 21.41c.39.39.9.59 1.41.59.51 0 1.02-.2 1.41-.59l7.78-7.78 2.81-2.81c.8-.78.8-2.07 0-2.86zM5.41 20L4 18.59l7.72-7.72 1.47 1.35L5.41 20z\"/>\n",
              "  </svg>\n",
              "      </button>\n",
              "      \n",
              "  <style>\n",
              "    .colab-df-container {\n",
              "      display:flex;\n",
              "      flex-wrap:wrap;\n",
              "      gap: 12px;\n",
              "    }\n",
              "\n",
              "    .colab-df-convert {\n",
              "      background-color: #E8F0FE;\n",
              "      border: none;\n",
              "      border-radius: 50%;\n",
              "      cursor: pointer;\n",
              "      display: none;\n",
              "      fill: #1967D2;\n",
              "      height: 32px;\n",
              "      padding: 0 0 0 0;\n",
              "      width: 32px;\n",
              "    }\n",
              "\n",
              "    .colab-df-convert:hover {\n",
              "      background-color: #E2EBFA;\n",
              "      box-shadow: 0px 1px 2px rgba(60, 64, 67, 0.3), 0px 1px 3px 1px rgba(60, 64, 67, 0.15);\n",
              "      fill: #174EA6;\n",
              "    }\n",
              "\n",
              "    [theme=dark] .colab-df-convert {\n",
              "      background-color: #3B4455;\n",
              "      fill: #D2E3FC;\n",
              "    }\n",
              "\n",
              "    [theme=dark] .colab-df-convert:hover {\n",
              "      background-color: #434B5C;\n",
              "      box-shadow: 0px 1px 3px 1px rgba(0, 0, 0, 0.15);\n",
              "      filter: drop-shadow(0px 1px 2px rgba(0, 0, 0, 0.3));\n",
              "      fill: #FFFFFF;\n",
              "    }\n",
              "  </style>\n",
              "\n",
              "      <script>\n",
              "        const buttonEl =\n",
              "          document.querySelector('#df-5e1be470-814c-4b31-9d27-b6eb06388fb6 button.colab-df-convert');\n",
              "        buttonEl.style.display =\n",
              "          google.colab.kernel.accessAllowed ? 'block' : 'none';\n",
              "\n",
              "        async function convertToInteractive(key) {\n",
              "          const element = document.querySelector('#df-5e1be470-814c-4b31-9d27-b6eb06388fb6');\n",
              "          const dataTable =\n",
              "            await google.colab.kernel.invokeFunction('convertToInteractive',\n",
              "                                                     [key], {});\n",
              "          if (!dataTable) return;\n",
              "\n",
              "          const docLinkHtml = 'Like what you see? Visit the ' +\n",
              "            '<a target=\"_blank\" href=https://colab.research.google.com/notebooks/data_table.ipynb>data table notebook</a>'\n",
              "            + ' to learn more about interactive tables.';\n",
              "          element.innerHTML = '';\n",
              "          dataTable['output_type'] = 'display_data';\n",
              "          await google.colab.output.renderOutput(dataTable, element);\n",
              "          const docLink = document.createElement('div');\n",
              "          docLink.innerHTML = docLinkHtml;\n",
              "          element.appendChild(docLink);\n",
              "        }\n",
              "      </script>\n",
              "    </div>\n",
              "  </div>\n",
              "  "
            ]
          },
          "metadata": {},
          "execution_count": 44
        }
      ]
    },
    {
      "cell_type": "code",
      "source": [
        "clean_val_df.shape"
      ],
      "metadata": {
        "id": "ZJwg9DxO9WJF",
        "colab": {
          "base_uri": "https://localhost:8080/"
        },
        "outputId": "d7647d57-6960-4d59-8267-f97f8b86c95d"
      },
      "execution_count": null,
      "outputs": [
        {
          "output_type": "execute_result",
          "data": {
            "text/plain": [
              "(13368, 2)"
            ]
          },
          "metadata": {},
          "execution_count": 45
        }
      ]
    },
    {
      "cell_type": "code",
      "source": [
        "clean_train_df"
      ],
      "metadata": {
        "id": "SvKRMoX5DAj3",
        "colab": {
          "base_uri": "https://localhost:8080/",
          "height": 424
        },
        "outputId": "6cf8b166-4e2a-4226-9ca9-cd71aeb69b9b"
      },
      "execution_count": null,
      "outputs": [
        {
          "output_type": "execute_result",
          "data": {
            "text/plain": [
              "                                                  article  \\\n",
              "0       The bishop of the Fargo Catholic Diocese in No...   \n",
              "1       Ralph Mata was an internal affairs lieutenant ...   \n",
              "2       A drunk driver who killed a young woman in a h...   \n",
              "3       With a breezy sweep of his pen President Vladi...   \n",
              "4       Fleetwood are the only team still to have a 10...   \n",
              "...                                                   ...   \n",
              "287108  Former first daughter Chelsea Clinton has indi...   \n",
              "287109  An apologetic Vanilla Ice has given his first ...   \n",
              "287110  America's most lethal sniper claimed he wished...   \n",
              "287111  Israel has been invaded by a swarm of more tha...   \n",
              "287112  Former Florida Gov. Jeb Bush has decided to \"a...   \n",
              "\n",
              "                                               highlights  \n",
              "0       Bishop John Folda, of North Dakota, is taking ...  \n",
              "1       Criminal complaint: Cop used his role to help ...  \n",
              "2       Craig Eccleston-Todd, 27, had drunk at least t...  \n",
              "3       Nina dos Santos says Europe must be ready to a...  \n",
              "4       Fleetwood top of League One after 2-0 win at S...  \n",
              "...                                                   ...  \n",
              "287108  Chelsea Clinton said question of running for o...  \n",
              "287109  Vanilla Ice, 47 - real name Robert Van Winkle ...  \n",
              "287110  America's most lethal sniper made comment in i...  \n",
              "287111  A swarm of more than one million has crossed b...  \n",
              "287112  Other 2016 hopefuls maintain that Bush's annou...  \n",
              "\n",
              "[287113 rows x 2 columns]"
            ],
            "text/html": [
              "\n",
              "  <div id=\"df-3c06007c-4668-4da3-b319-32a6d45f1985\">\n",
              "    <div class=\"colab-df-container\">\n",
              "      <div>\n",
              "<style scoped>\n",
              "    .dataframe tbody tr th:only-of-type {\n",
              "        vertical-align: middle;\n",
              "    }\n",
              "\n",
              "    .dataframe tbody tr th {\n",
              "        vertical-align: top;\n",
              "    }\n",
              "\n",
              "    .dataframe thead th {\n",
              "        text-align: right;\n",
              "    }\n",
              "</style>\n",
              "<table border=\"1\" class=\"dataframe\">\n",
              "  <thead>\n",
              "    <tr style=\"text-align: right;\">\n",
              "      <th></th>\n",
              "      <th>article</th>\n",
              "      <th>highlights</th>\n",
              "    </tr>\n",
              "  </thead>\n",
              "  <tbody>\n",
              "    <tr>\n",
              "      <th>0</th>\n",
              "      <td>The bishop of the Fargo Catholic Diocese in No...</td>\n",
              "      <td>Bishop John Folda, of North Dakota, is taking ...</td>\n",
              "    </tr>\n",
              "    <tr>\n",
              "      <th>1</th>\n",
              "      <td>Ralph Mata was an internal affairs lieutenant ...</td>\n",
              "      <td>Criminal complaint: Cop used his role to help ...</td>\n",
              "    </tr>\n",
              "    <tr>\n",
              "      <th>2</th>\n",
              "      <td>A drunk driver who killed a young woman in a h...</td>\n",
              "      <td>Craig Eccleston-Todd, 27, had drunk at least t...</td>\n",
              "    </tr>\n",
              "    <tr>\n",
              "      <th>3</th>\n",
              "      <td>With a breezy sweep of his pen President Vladi...</td>\n",
              "      <td>Nina dos Santos says Europe must be ready to a...</td>\n",
              "    </tr>\n",
              "    <tr>\n",
              "      <th>4</th>\n",
              "      <td>Fleetwood are the only team still to have a 10...</td>\n",
              "      <td>Fleetwood top of League One after 2-0 win at S...</td>\n",
              "    </tr>\n",
              "    <tr>\n",
              "      <th>...</th>\n",
              "      <td>...</td>\n",
              "      <td>...</td>\n",
              "    </tr>\n",
              "    <tr>\n",
              "      <th>287108</th>\n",
              "      <td>Former first daughter Chelsea Clinton has indi...</td>\n",
              "      <td>Chelsea Clinton said question of running for o...</td>\n",
              "    </tr>\n",
              "    <tr>\n",
              "      <th>287109</th>\n",
              "      <td>An apologetic Vanilla Ice has given his first ...</td>\n",
              "      <td>Vanilla Ice, 47 - real name Robert Van Winkle ...</td>\n",
              "    </tr>\n",
              "    <tr>\n",
              "      <th>287110</th>\n",
              "      <td>America's most lethal sniper claimed he wished...</td>\n",
              "      <td>America's most lethal sniper made comment in i...</td>\n",
              "    </tr>\n",
              "    <tr>\n",
              "      <th>287111</th>\n",
              "      <td>Israel has been invaded by a swarm of more tha...</td>\n",
              "      <td>A swarm of more than one million has crossed b...</td>\n",
              "    </tr>\n",
              "    <tr>\n",
              "      <th>287112</th>\n",
              "      <td>Former Florida Gov. Jeb Bush has decided to \"a...</td>\n",
              "      <td>Other 2016 hopefuls maintain that Bush's annou...</td>\n",
              "    </tr>\n",
              "  </tbody>\n",
              "</table>\n",
              "<p>287113 rows × 2 columns</p>\n",
              "</div>\n",
              "      <button class=\"colab-df-convert\" onclick=\"convertToInteractive('df-3c06007c-4668-4da3-b319-32a6d45f1985')\"\n",
              "              title=\"Convert this dataframe to an interactive table.\"\n",
              "              style=\"display:none;\">\n",
              "        \n",
              "  <svg xmlns=\"http://www.w3.org/2000/svg\" height=\"24px\"viewBox=\"0 0 24 24\"\n",
              "       width=\"24px\">\n",
              "    <path d=\"M0 0h24v24H0V0z\" fill=\"none\"/>\n",
              "    <path d=\"M18.56 5.44l.94 2.06.94-2.06 2.06-.94-2.06-.94-.94-2.06-.94 2.06-2.06.94zm-11 1L8.5 8.5l.94-2.06 2.06-.94-2.06-.94L8.5 2.5l-.94 2.06-2.06.94zm10 10l.94 2.06.94-2.06 2.06-.94-2.06-.94-.94-2.06-.94 2.06-2.06.94z\"/><path d=\"M17.41 7.96l-1.37-1.37c-.4-.4-.92-.59-1.43-.59-.52 0-1.04.2-1.43.59L10.3 9.45l-7.72 7.72c-.78.78-.78 2.05 0 2.83L4 21.41c.39.39.9.59 1.41.59.51 0 1.02-.2 1.41-.59l7.78-7.78 2.81-2.81c.8-.78.8-2.07 0-2.86zM5.41 20L4 18.59l7.72-7.72 1.47 1.35L5.41 20z\"/>\n",
              "  </svg>\n",
              "      </button>\n",
              "      \n",
              "  <style>\n",
              "    .colab-df-container {\n",
              "      display:flex;\n",
              "      flex-wrap:wrap;\n",
              "      gap: 12px;\n",
              "    }\n",
              "\n",
              "    .colab-df-convert {\n",
              "      background-color: #E8F0FE;\n",
              "      border: none;\n",
              "      border-radius: 50%;\n",
              "      cursor: pointer;\n",
              "      display: none;\n",
              "      fill: #1967D2;\n",
              "      height: 32px;\n",
              "      padding: 0 0 0 0;\n",
              "      width: 32px;\n",
              "    }\n",
              "\n",
              "    .colab-df-convert:hover {\n",
              "      background-color: #E2EBFA;\n",
              "      box-shadow: 0px 1px 2px rgba(60, 64, 67, 0.3), 0px 1px 3px 1px rgba(60, 64, 67, 0.15);\n",
              "      fill: #174EA6;\n",
              "    }\n",
              "\n",
              "    [theme=dark] .colab-df-convert {\n",
              "      background-color: #3B4455;\n",
              "      fill: #D2E3FC;\n",
              "    }\n",
              "\n",
              "    [theme=dark] .colab-df-convert:hover {\n",
              "      background-color: #434B5C;\n",
              "      box-shadow: 0px 1px 3px 1px rgba(0, 0, 0, 0.15);\n",
              "      filter: drop-shadow(0px 1px 2px rgba(0, 0, 0, 0.3));\n",
              "      fill: #FFFFFF;\n",
              "    }\n",
              "  </style>\n",
              "\n",
              "      <script>\n",
              "        const buttonEl =\n",
              "          document.querySelector('#df-3c06007c-4668-4da3-b319-32a6d45f1985 button.colab-df-convert');\n",
              "        buttonEl.style.display =\n",
              "          google.colab.kernel.accessAllowed ? 'block' : 'none';\n",
              "\n",
              "        async function convertToInteractive(key) {\n",
              "          const element = document.querySelector('#df-3c06007c-4668-4da3-b319-32a6d45f1985');\n",
              "          const dataTable =\n",
              "            await google.colab.kernel.invokeFunction('convertToInteractive',\n",
              "                                                     [key], {});\n",
              "          if (!dataTable) return;\n",
              "\n",
              "          const docLinkHtml = 'Like what you see? Visit the ' +\n",
              "            '<a target=\"_blank\" href=https://colab.research.google.com/notebooks/data_table.ipynb>data table notebook</a>'\n",
              "            + ' to learn more about interactive tables.';\n",
              "          element.innerHTML = '';\n",
              "          dataTable['output_type'] = 'display_data';\n",
              "          await google.colab.output.renderOutput(dataTable, element);\n",
              "          const docLink = document.createElement('div');\n",
              "          docLink.innerHTML = docLinkHtml;\n",
              "          element.appendChild(docLink);\n",
              "        }\n",
              "      </script>\n",
              "    </div>\n",
              "  </div>\n",
              "  "
            ]
          },
          "metadata": {},
          "execution_count": 46
        }
      ]
    },
    {
      "cell_type": "code",
      "source": [
        "# clean_train_df.rename(columns = {'article':'text', 'highlights':'y'}, inplace = True)\n"
      ],
      "metadata": {
        "id": "bCLO_pG-DFOj"
      },
      "execution_count": null,
      "outputs": []
    },
    {
      "cell_type": "code",
      "source": [
        "text = clean_train_df['article'][0]\n",
        "text\n"
      ],
      "metadata": {
        "colab": {
          "base_uri": "https://localhost:8080/",
          "height": 165
        },
        "id": "qezdu9eTJXN3",
        "outputId": "47f62729-7349-4851-b8e5-5adcb7f75637"
      },
      "execution_count": null,
      "outputs": [
        {
          "output_type": "execute_result",
          "data": {
            "text/plain": [
              "\"The bishop of the Fargo Catholic Diocese in North Dakota has exposed potentially hundreds of church members in Fargo, Grvirus in late September and early October. The state Health Department has issued an advisory of exposure for anyone who attended five churches and took communion. Bishop John Folda (pictured) of the Fargo Catholic Diocese in North Dakota has exposed potentially hundreds of church members in Fargo, GrState Immunization Program Manager Molly Howell says the risk is low, but officials feel it's important to alert people to the possible exposure. The diocese announced on Monday that Bishop John Folda is taking time off after being diagnosed with hepatitis A. The diocese says he contracted the infection through contaminated food while attending a conference for newly ordained bishops in Italy last month. Symptoms of hepatitis A include fever, tiredness, loss of appetite, nausea and abdominal discomfort. Fargo Catholic Diocese in North Dakota (pictured) is where the bishop is located .\""
            ],
            "application/vnd.google.colaboratory.intrinsic+json": {
              "type": "string"
            }
          },
          "metadata": {},
          "execution_count": 49
        }
      ]
    },
    {
      "cell_type": "code",
      "source": [
        "# clean_val_df.rename(columns = {'article':'text', 'highlights':'y'}, inplace = True)\n",
        "text = clean_val_df['article'][0]\n",
        "text"
      ],
      "metadata": {
        "id": "owbC74RRFXBc",
        "colab": {
          "base_uri": "https://localhost:8080/",
          "height": 165
        },
        "outputId": "312c6d7a-0c43-4d92-a2fd-7945707af74a"
      },
      "execution_count": null,
      "outputs": [
        {
          "output_type": "execute_result",
          "data": {
            "text/plain": [
              "\"Sally Forrest, an actress-dancer who graced the silver screen throughout the '40s and '50s in MGM musicals and films such as the 1956 noir While the City Sleeps died on March 15 at her home in Beverly Hills, California. Forrest, whose birth name was Katherine Feeney, was 86 and had long battled cancer. Her publicist, Judith Goffin, announced the news Thursday. Scroll down for video . Actress: Sally Forrest was in the 1951 Ida Lupino-directed film 'Hard, Fast and Beautiful' (left) and the 1956 Fritz Lang movie 'While the City Sleeps' A San Diego native, Forrest became a protege of Hollywood trailblazer Ida Lupino, who cast her in starring roles in films including the critical and commercial success Not Wanted, Never Fear and Hard, Fast and Beautiful. Some of Forrest's other film credits included Bannerline, Son of Sinbad, and Excuse My Dust, according to her iMDB\\xa0page. The page also indicates Forrest was in multiple Climax! and Rawhide television episodes. Forrest appeared as herself in an episode of The Ed Sullivan Show and three episodes of The Dinah Shore Chevy Show, her iMDB page says. She also starred in a Broadway production of The Seven Year Itch. City News Service reported that other stage credits included As You Like It, No, No, Nanette and Damn Yankees. Forrest married writer-producer Milo Frank in 1951. He died in 2004. She is survived by her niece, Sharon Durham, and nephews, Michael and Mark Feeney. Career: A San Diego native, Forrest became a protege of Hollywood trailblazer Ida Lupino, who cast her in starring roles in films .\""
            ],
            "application/vnd.google.colaboratory.intrinsic+json": {
              "type": "string"
            }
          },
          "metadata": {},
          "execution_count": 50
        }
      ]
    },
    {
      "cell_type": "code",
      "source": [
        "# clean_train_df_100 = clean_train_df.iloc[:10000]"
      ],
      "metadata": {
        "id": "OKKpHf29DeA5"
      },
      "execution_count": null,
      "outputs": []
    },
    {
      "cell_type": "code",
      "source": [
        "## count\n",
        "clean_val_df['word_count_article'] = clean_val_df['article'].apply(lambda x: len(nltk.word_tokenize(str(x))) )\n",
        "## plot\n",
        "sns.distplot(clean_val_df[\"word_count_article\"], hist=True, kde=True, kde_kws={\"shade\":True})"
      ],
      "metadata": {
        "id": "XjZg7o73CVlG",
        "colab": {
          "base_uri": "https://localhost:8080/",
          "height": 355
        },
        "outputId": "4a8a276b-eb63-4bb3-c63d-7fc50db79423"
      },
      "execution_count": null,
      "outputs": [
        {
          "output_type": "stream",
          "name": "stderr",
          "text": [
            "/usr/local/lib/python3.7/dist-packages/seaborn/distributions.py:2619: FutureWarning: `distplot` is a deprecated function and will be removed in a future version. Please adapt your code to use either `displot` (a figure-level function with similar flexibility) or `histplot` (an axes-level function for histograms).\n",
            "  warnings.warn(msg, FutureWarning)\n"
          ]
        },
        {
          "output_type": "execute_result",
          "data": {
            "text/plain": [
              "<matplotlib.axes._subplots.AxesSubplot at 0x7ff410a6f210>"
            ]
          },
          "metadata": {},
          "execution_count": 52
        },
        {
          "output_type": "display_data",
          "data": {
            "text/plain": [
              "<Figure size 432x288 with 1 Axes>"
            ],
            "image/png": "[encoded data removed]"
          },
          "metadata": {
            "needs_background": "light"
          }
        }
      ]
    },
    {
      "cell_type": "code",
      "source": [
        "## count\n",
        "clean_val_df['word_count_highlights'] = clean_val_df['highlights'].apply(lambda x: len(nltk.word_tokenize(str(x))) )\n",
        "## plot\n",
        "sns.distplot(clean_val_df[\"word_count_highlights\"], hist=True, kde=True, kde_kws={\"shade\":True})\n",
        "plt.xlim(0, 100)"
      ],
      "metadata": {
        "id": "EURqfx9wDVoU",
        "colab": {
          "base_uri": "https://localhost:8080/",
          "height": 355
        },
        "outputId": "6979e9b6-c859-432e-d530-710a56cce2fe"
      },
      "execution_count": null,
      "outputs": [
        {
          "output_type": "stream",
          "name": "stderr",
          "text": [
            "/usr/local/lib/python3.7/dist-packages/seaborn/distributions.py:2619: FutureWarning: `distplot` is a deprecated function and will be removed in a future version. Please adapt your code to use either `displot` (a figure-level function with similar flexibility) or `histplot` (an axes-level function for histograms).\n",
            "  warnings.warn(msg, FutureWarning)\n"
          ]
        },
        {
          "output_type": "execute_result",
          "data": {
            "text/plain": [
              "(0.0, 100.0)"
            ]
          },
          "metadata": {},
          "execution_count": 53
        },
        {
          "output_type": "display_data",
          "data": {
            "text/plain": [
              "<Figure size 432x288 with 1 Axes>"
            ],
            "image/png": "[encoded data removed]"
          },
          "metadata": {
            "needs_background": "light"
          }
        }
      ]
    },
    {
      "cell_type": "markdown",
      "source": [
        "# Step 5: TextRank"
      ],
      "metadata": {
        "id": "HFzn5q3mINJE"
      }
    },
    {
      "cell_type": "code",
      "source": [
        "def textrank(corpus, ratio=0.2):    \n",
        "  if type(corpus) is str:        \n",
        "      corpus = [corpus]    \n",
        "  summaries = [gensim.summarization.summarize(txt, ratio=ratio) for txt in corpus]    \n",
        "  return summaries"
      ],
      "metadata": {
        "id": "RXbaTv5cPiMI"
      },
      "execution_count": null,
      "outputs": []
    },
    {
      "cell_type": "code",
      "source": [
        "clean_test_df.iloc[:100]['article']"
      ],
      "metadata": {
        "id": "udgulI9OZz8C",
        "colab": {
          "base_uri": "https://localhost:8080/"
        },
        "outputId": "cef1580a-004f-4649-a000-bf44d04f7e8c"
      },
      "execution_count": null,
      "outputs": [
        {
          "output_type": "execute_result",
          "data": {
            "text/plain": [
              "0     Ever noticed how plane seats appear to be gett...\n",
              "1     A drunk teenage boy had to be rescued by secur...\n",
              "2     Dougie Freedman is on the verge of agreeing a ...\n",
              "3     Liverpool target Neto is also wanted by PSG an...\n",
              "4     Bruce Jenner will break his silence in a two-h...\n",
              "                            ...                        \n",
              "95    As Zlatan Ibrahimovic famously believes the Wo...\n",
              "96    Jameela spent £3,000 on having all her amalgam...\n",
              "97    A paramedic who pretended he was gay to get cl...\n",
              "98    Paris Saint-Germain face Nice on Saturday, hop...\n",
              "99    You know the phrase \"dodging a bullet\"? Forget...\n",
              "Name: article, Length: 100, dtype: object"
            ]
          },
          "metadata": {},
          "execution_count": 55
        }
      ]
    },
    {
      "cell_type": "code",
      "source": [
        "predicted_summaries = textrank(corpus=clean_test_df.iloc[:10]['article'], ratio=0.2)\n",
        "for idx, summary in enumerate(predicted_summaries):\n",
        "  print(f\"Summary {idx+1}\")\n",
        "  print_with_line_limit(summary)"
      ],
      "metadata": {
        "colab": {
          "base_uri": "https://localhost:8080/"
        },
        "id": "9BmwhFI354_0",
        "outputId": "f26f20e3-4df8-4272-a870-82a78053ea94"
      },
      "execution_count": null,
      "outputs": [
        {
          "output_type": "stream",
          "name": "stdout",
          "text": [
            "Summary 1\n",
            "Tests conducted by the FAA use planes with a 31 inch pitch, a stMany economy seats on United Airline\n",
            "s have 30 inches of room, while some airlines offer as little as 28 inches .\n",
            "But these tests are con\n",
            "ducted using planes with 31 inches between each row of seats, a standard which on some airlines has \n",
            "decreased, reported the Detroit News.\n",
            "\n",
            "Summary 2\n",
            "Next level drunk: Intoxicated Rahul Kumar, 17, climbed into the lions' enclosure at a zoo in Ahmedab\n",
            "ad and began running towards the animals shouting 'Today I kill a lion!' Mr Kumar had been sitting n\n",
            "ear the enclosure when he suddenly made a dash for the lions, surprising zoo security.\n",
            "\n",
            "Summary 3\n",
            "Dougie Freedman is set to sign a new deal at Nottingham Forest .\n",
            "\n",
            "Summary 4\n",
            "Liverpool target Neto is also wanted by PSG and clubs in Spain as Brendan Rodgers faces stiff compet\n",
            "ition to land the Fiorentina goalkeeper, according to the Brazilian's agent Stefano Castagna.\n",
            "Neto i\n",
            "s wanted by a number of top European clubs including Liverpool and PSG, according to his agent .\n",
            "\n",
            "Summary 5\n",
            "The former Olympian and reality TV star, 65, will speak in a 'far-ranging' interview with Sawyer for\n",
            " a special edition of '20/20' on Friday April 24, ABC News announced on Monday.\n",
            "Speaking out: Bruce \n",
            "Jenner, pictured on 'Keeping Up with the Kardashians' will speak out in a 'far-ranging' interview wi\n",
            "th Diane Sawyer later this month, ABC News announced on Monday .\n",
            "Out and about: Jenner was pictured \n",
            "walking back to his car in Malibu on the weekend large sweatshirt on Sunday, days after reports that\n",
            " he had undergone a breast enhancement .\n",
            "I think everyone goes through things in life and I think th\n",
            "at story and what Bruce is going through, I think he'll share whenever the time is right.' Jenner, w\n",
            "ho won gold in the decathlon at the 1976 Olympics, also made headlines earlier this year for his inv\n",
            "olvement in a deadly car crash in Malibu.\n",
            "Deadly: In February, Jenner's vehicle, which was pulling a\n",
            " trailer and an ATV (seen right) rear-ended a woman's car (left) and pushed it into the lane of an o\n",
            "ncoming Hummer.\n",
            "By his side: Bruce, pictured with his ex-wife Kris Jenner and four of his step-child\n",
            "ren (from left) Rob, Kim, Kourtney and Khloe, has received support from his family.\n",
            "\n",
            "Summary 6\n",
            "A team from Dorset Fire The prize porker known as Pigwig had fallen into the water Two fire crews an\n",
            "d a specialist animal rescue team had to use slide boards and strops to haul the huge black pig from\n",
            " the small pool.\n",
            "Firefighters were also called out to a horse which had fallen into a swimming pool \n",
            "in Heyshott, West Sussex .\n",
            "\n",
            "Summary 7\n",
            "The average listener spent just ten hours a week tuning in to BBC radio in the last three months of \n",
            "2014, according to official figures.\n",
            "The length of time people spend listening to BBC radio has drop\n",
            "ped to its lowest level ever, figures show .\n",
            "‘He noted…that time spent listening to BBC radio had dr\n",
            "opped to its lowest ever level,’ the documents said.\n",
            "‘He reported that the recent RAJAR figures show\n",
            "ed that 6Music had become the first digital-only station to reach two million listeners,’ the minute\n",
            "s said.\n",
            "\n",
            "Summary 8\n",
            "Co-star John Stamos announced Monday night on \"Jimmy Kimmel Live\" that Netflix has ordered up a reun\n",
            "ion special, followed by a spinoff series called \"Fuller House.\" The show will feature Candace Camer\n",
            "on Bure, who played eldest daughter D.J. Tanner in the original series -- which aired from 1987 to 1\n",
            "995 -- as the recently widowed mother of three boys.\n",
            "Jodie Sweetin, who played Stephanie Tanner in t\n",
            "he original series, and Andrea Barber, who portrayed D.J.'s best friend Kimmy Gibbler, will both ret\n",
            "urn for the new series, Netflix said.\n",
            "On Monday, Barber tweeted Cameron Bure to ask whether she was \n",
            "ready to resume their onscreen friendship.\n",
            "\n",
            "Summary 9\n",
            "At 11:20pm, former world champion Ken Doherty potted a final black and extinguished, for now, the dr\n",
            "eam of Reanne Evans to become the first women player to play the hallowed baize of Sheffield's Cruci\n",
            "ble Theatre in the world snooker championship.\n",
            "She advanced the cause of women in sport no end and g\n",
            "ave Doherty the fright of his life in an enthralling and attritional match that won't be bettered in\n",
            " this year's qualifying tournament.\n",
            "Snooker's governing body had been criticised in some quarters fo\n",
            "r allowing Evans a wild card to compete alongside 127 male players for the right to play in the spor\n",
            "t's blue-chip event on April 18 - something no female had achieved.\n",
            "Evans plays a shot during her wo\n",
            "rld championship qualifying match against Doherty .\n",
            "Doherty, who won the World Championship title ba\n",
            "ck in 1997, took out the first frame 71-15 .\n",
            "If it had gone to 9-9, I'd have been a million-to-one t\n",
            "o win it.' Evans, cheered on by her eight-year-old daughter Lauren at the Ponds Forge sports centre \n",
            "in Sheffield, admitted she was exhausted after a match of unfamiliar intensity for her.\n",
            "A 10-time la\n",
            "dies' champion, Evans had led twice during the opening session before Doherty went 5-4 in front .\n",
            "It\n",
            " took Doherty to a 9-7 lead but Evans came roaring back in the next frame.\n",
            "He needed a snooker to av\n",
            "oid the match going into a final frame – and he got it.\n",
            "\n",
            "Summary 10\n",
            "A gang of six men have been jailed for a total of 31 years after being convicted of a string of sexu\n",
            "al offences against teenager girls.\n",
            "Mohamed Saleh, 22, (right) was imprisoned for four years The gir\n",
            "ls, aged between 13 and 16, were targeted by the gang  at under-18s parties organised by Ahmed Hassa\n",
            "n-Sule, 21, known as 'Fiddy'.\n",
            "'Your friends helped put on these events sexually promiscuous group, n\n",
            "ot with your own girlfriends, but with girls who were young, vulnerable and lacking in maturity.' Th\n",
            "e judge rejected the argument put forward by the defence, who accused the girls of coming forward be\n",
            "cause 'it's better to be a victim than a slag'.\n",
            "Behind bars: Kagiso Manase, 26, (left) was jailed fo\n",
            "r four years and Said Saleh, 20, (right) was sentenced to four years' detention in a Young Offenders\n",
            " Institute .\n",
            "'As a result young people will be safeguarded while these men will have time to reflect\n",
            " upon their actions in prison.' Convicted: Takudzwa Hova, 21, (left) was sentenced to six years' imp\n",
            "risonment, while Zsolt Szalontai, 18, (right) was sentenced to three years' detention in a Young Off\n",
            "enders' Institute after being found guilty of rape .\n",
            "Justice: The judge rejected the argument put fo\n",
            "rward by the defence at Oxford Crown Court (pictured), who accused the girls of coming forward becau\n",
            "se 'it's better to be a victim than a slag' Those jailed on Friday afternoon at Oxford Crown Court w\n",
            "ere: Ahmed Hassan-Sule, 21, of Banbury, who was found guilty of 13 counts of sexual activity with a \n",
            "child and one count of assault by penetration.\n",
            "Mohamed Saleh, 22, of Banbury, was found guilty of tw\n",
            "o counts of sexual activity with a child.\n",
            "Said Saleh, 20, from Banbury, was found guilty of one coun\n",
            "t of sexual activity with a child.\n",
            "\n"
          ]
        }
      ]
    },
    {
      "cell_type": "markdown",
      "source": [
        "We found a problem with specific articles, where its generated highlight is empty, as shown below:"
      ],
      "metadata": {
        "id": "y2MqSBoH85G8"
      }
    },
    {
      "cell_type": "code",
      "source": [
        "## Apply the function to corpus\n",
        "## Note: takes long time, so we run on little data to see what happens\n",
        "predicted_summaries = textrank(corpus=clean_test_df.iloc[1140]['article'], ratio=0.2)"
      ],
      "metadata": {
        "id": "jgZVnrBmIGPM"
      },
      "execution_count": null,
      "outputs": []
    },
    {
      "cell_type": "code",
      "source": [
        "clean_test_df['article'][1140]"
      ],
      "metadata": {
        "id": "1Wp1PiDye9TZ",
        "colab": {
          "base_uri": "https://localhost:8080/",
          "height": 91
        },
        "outputId": "e85962b3-a423-4bb1-d819-9efc87f3fc6a"
      },
      "execution_count": null,
      "outputs": [
        {
          "output_type": "execute_result",
          "data": {
            "text/plain": [
              "'Once Hillary Clinton\\'s official announcement went online, social media responded in a big way, with terms like \"Hillary Clinton,\" \"#Hillary2016,\" and yes, even \"#WhyImNotVotingforHillary\" trending. Certainly, you couldn\\'t go far on Twitter (even before Clinton tweeted her announcement), without an opinion or thought on her new campaign (there were over 3 million views of her announcment tweets in one hour, and 750,000 Facebook video views so far by Sunday evening). Some tweeted their immediate support, with one word: .'"
            ],
            "application/vnd.google.colaboratory.intrinsic+json": {
              "type": "string"
            }
          },
          "metadata": {},
          "execution_count": 58
        }
      ]
    },
    {
      "cell_type": "code",
      "source": [
        "clean_test_df['highlights'][1140]"
      ],
      "metadata": {
        "id": "uBpOjnuVaR_l",
        "colab": {
          "base_uri": "https://localhost:8080/",
          "height": 55
        },
        "outputId": "379c9f26-31f9-4334-a6f0-9283240be2a4"
      },
      "execution_count": null,
      "outputs": [
        {
          "output_type": "execute_result",
          "data": {
            "text/plain": [
              "\"Response across social media led to multiple trending topics for Hillary Clinton's presidential announcement . Some responded to her video and her new campaign logo .\""
            ],
            "application/vnd.google.colaboratory.intrinsic+json": {
              "type": "string"
            }
          },
          "metadata": {},
          "execution_count": 59
        }
      ]
    },
    {
      "cell_type": "code",
      "source": [
        "predicted_summaries"
      ],
      "metadata": {
        "id": "P1BMb9ToaCs6",
        "colab": {
          "base_uri": "https://localhost:8080/"
        },
        "outputId": "6f5703c9-0c99-48fe-be31-6f2ec56c03b5"
      },
      "execution_count": null,
      "outputs": [
        {
          "output_type": "execute_result",
          "data": {
            "text/plain": [
              "['']"
            ]
          },
          "metadata": {},
          "execution_count": 60
        }
      ]
    },
    {
      "cell_type": "markdown",
      "source": [
        "As can seen above, there is a problem with const ratio. We choose ratio=0.2, which gave us empty summaries on short articles. <br>\n",
        "Suggested solution: for short articles decide an higher ration, for example: 0.5 (which promissing at least one sentence by assumption which an article contains at least 2 sentances)"
      ],
      "metadata": {
        "id": "8fg11zXYgu8n"
      }
    },
    {
      "cell_type": "code",
      "source": [
        "textrank(corpus=clean_test_df.iloc[1140]['article'], ratio=0.5)"
      ],
      "metadata": {
        "id": "mq0XD3zKhXyS",
        "colab": {
          "base_uri": "https://localhost:8080/"
        },
        "outputId": "128fc3a0-ffff-465e-8e8a-8a8eb3e11513"
      },
      "execution_count": null,
      "outputs": [
        {
          "output_type": "execute_result",
          "data": {
            "text/plain": [
              "['Once Hillary Clinton\\'s official announcement went online, social media responded in a big way, with terms like \"Hillary Clinton,\" \"#Hillary2016,\" and yes, even \"#WhyImNotVotingforHillary\" trending.']"
            ]
          },
          "metadata": {},
          "execution_count": 61
        }
      ]
    },
    {
      "cell_type": "markdown",
      "source": [
        "The code below gave revealed us to TextRank' weakness with generate summaries:"
      ],
      "metadata": {
        "id": "cNHdC9Wheq-0"
      }
    },
    {
      "cell_type": "code",
      "source": [
        "## Note: need to run textrank func, which takes long time\n",
        "# for i, pred_summary in enumerate(predicted_summaries):\n",
        "#   if pred_summary==\"\":\n",
        "#     print(f\"index: {i}, \\narticle: {test_df['article'][i]}, \\nsummary: {test_df['highlights'][i]}\\n\")"
      ],
      "metadata": {
        "id": "OCVBW-zSiJ1e"
      },
      "execution_count": null,
      "outputs": []
    },
    {
      "cell_type": "markdown",
      "source": [
        "Important notes: <br>\n",
        "1) There is a limitation to TextRank: some of generated summaries are empty, althoght the ground-true is not! <br>\n",
        "2) The ROUGE score can't be calced when the generated summary is empty. So we give the score 0!"
      ],
      "metadata": {
        "id": "LYcrVynhZFzq"
      }
    },
    {
      "cell_type": "code",
      "source": [
        "def evaluate_avg_rouge(summaries, predicted_summaries):\n",
        "  assert len(summaries) == len(predicted_summaries), f\"summary and predicted summary have no same length: {len(summaries)}, {len(predicted_summaries)}\"\n",
        "  assert len(summaries) > 0, f\"num of summaries is 0!\"\n",
        "  if type(summaries) is str:        \n",
        "    summaries = [summaries]\n",
        "  if type(predicted_summaries) is str:        \n",
        "    predicted_summaries = [predicted_summaries]\n",
        "\n",
        "  # lst_summaries = [gensim.summarization.summarize(txt, ratio=ratio) for txt in corpus]\n",
        "\n",
        "  avg_scores = {'rouge-1': 0, 'rouge-2': 0, 'rouge-L': 0}\n",
        "\n",
        "  rouge_score = rouge.Rouge()\n",
        "  for (txt, pred_txt) in zip(summaries, predicted_summaries):\n",
        "    if pred_txt=='':\n",
        "      score_1 = 0   \n",
        "      score_2 = 0    \n",
        "      score_L = 0\n",
        "    else:\n",
        "      scores = rouge_score.get_scores(refs=txt, hyps=pred_txt, avg=True)       \n",
        "      score_1 = round(scores['rouge-1']['f'], 3)    \n",
        "      score_2 = round(scores['rouge-2']['f'], 3)    \n",
        "      score_L = round(scores['rouge-l']['f'], 3)\n",
        "\n",
        "    avg_scores['rouge-1'] = avg_scores['rouge-1'] + score_1\n",
        "    avg_scores['rouge-2'] = avg_scores['rouge-2'] + score_2\n",
        "    avg_scores['rouge-L'] = avg_scores['rouge-L'] + score_L\n",
        "\n",
        "  avg_scores['rouge-1'] = round(avg_scores['rouge-1'] / len(summaries), 2)\n",
        "  avg_scores['rouge-2'] = round(avg_scores['rouge-2'] / len(summaries), 2)\n",
        "  avg_scores['rouge-L'] = round(avg_scores['rouge-L'] / len(summaries), 2)\n",
        "  return avg_scores"
      ],
      "metadata": {
        "id": "q3lcauqjWze4"
      },
      "execution_count": null,
      "outputs": []
    },
    {
      "cell_type": "code",
      "source": [
        "# Note: it takes ~2 minutes:\n",
        "# avg_scores = evaluate_avg_rouge(test_df[\"highlights\"], predicted_summaries)"
      ],
      "metadata": {
        "id": "T5h5JAi4H82B"
      },
      "execution_count": null,
      "outputs": []
    },
    {
      "cell_type": "markdown",
      "source": [
        "The results on test-set: <br>\n",
        "rouge-1: 0.31 <br>\n",
        "rouge-2: 0.13 <br>\n",
        "rouge-L: 0.29 <br>\n",
        "<bt>\n",
        "We hope that a newer model, like BART may do better results."
      ],
      "metadata": {
        "id": "WEkx_RURlGOL"
      }
    }
  ]
}